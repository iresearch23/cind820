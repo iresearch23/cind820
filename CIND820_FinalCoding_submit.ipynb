{
 "cells": [
  {
   "cell_type": "markdown",
   "metadata": {
    "id": "TX_-QfCapg5r"
   },
   "source": [
    "## CIND820 D1H - Big Data Analytics Project, F2023   \n",
    "### Final Coding  \n"
   ]
  },
  {
   "cell_type": "markdown",
   "metadata": {},
   "source": [
    "###  Name: Irfan Ahmad \n",
    "###  SN: 501 231 340 "
   ]
  },
  {
   "cell_type": "markdown",
   "metadata": {
    "id": "U8IqCJzxpg5t"
   },
   "source": [
    "*****\n",
    "The coding of this project is done in two parts: \n",
    "\n",
    "The first part uses simple regression to estimate gradient of total electric vehicle registration in each of Ontario's forward sortation area. The dataset comes from the Government of Ontario's quarterly reports on cumulative electric vehicle registrations grouped by forward sortation area. \n",
    "\n",
    "The second part uses three prediction models (Multiple Regression, Logistic Regression, K-Nearest Neighbour) to estimate the same gradient based on economic factors obtained from the statistics provided by Revenue Canada. The dataset coming from Revenue Canada is also grouped by forward sortation areas.\n",
    "*****"
   ]
  },
  {
   "cell_type": "markdown",
   "metadata": {
    "id": "OE4FoDBm-ULU"
   },
   "source": [
    "### Preparation\n",
    "\n",
    "The dataset includes cumulative EV Registration Count and Income Amount per source from Ontario's each forward sortation area. For more info: https://github.com/iresearch23/cind820"
   ]
  },
  {
   "cell_type": "code",
   "execution_count": 2,
   "metadata": {
    "id": "I6UpceuN_dle"
   },
   "outputs": [],
   "source": [
    "import pandas as pd\n",
    "import matplotlib.pyplot as plt\n",
    "import numpy as np \n",
    "import seaborn as sb \n",
    "from sklearn.model_selection import train_test_split \n",
    "from sklearn.linear_model import LinearRegression \n",
    "from sklearn.metrics import mean_squared_error, mean_absolute_error \n",
    "from sklearn import preprocessing"
   ]
  },
  {
   "cell_type": "markdown",
   "metadata": {},
   "source": [
    " \n",
    "  \n",
    "  "
   ]
  },
  {
   "cell_type": "markdown",
   "metadata": {},
   "source": [
    "### Part 1: Determine gradient for EV registration count"
   ]
  },
  {
   "cell_type": "markdown",
   "metadata": {
    "id": "XaX5w73fK8HZ"
   },
   "source": [
    "#### Data Load and Clean-up: \n",
    "\n",
    "Read the csv file from the local machine containing quarterly cumulative counts of EV registraions in each of Ontario's forward sortation area. This file can also be accessed via GitHub: https://github.com/iresearch23/cind820/blob/main/Ontario_EVs_CumulativeCount.csv.csv \n",
    "\n",
    "\n"
   ]
  },
  {
   "cell_type": "code",
   "execution_count": 3,
   "metadata": {
    "id": "LeBUg3jMLAsG"
   },
   "outputs": [
    {
     "name": "stdout",
     "output_type": "stream",
     "text": [
      "(569, 8)\n"
     ]
    },
    {
     "data": {
      "text/html": [
       "<div>\n",
       "<style scoped>\n",
       "    .dataframe tbody tr th:only-of-type {\n",
       "        vertical-align: middle;\n",
       "    }\n",
       "\n",
       "    .dataframe tbody tr th {\n",
       "        vertical-align: top;\n",
       "    }\n",
       "\n",
       "    .dataframe thead th {\n",
       "        text-align: right;\n",
       "    }\n",
       "</style>\n",
       "<table border=\"1\" class=\"dataframe\">\n",
       "  <thead>\n",
       "    <tr style=\"text-align: right;\">\n",
       "      <th></th>\n",
       "      <th>FSA</th>\n",
       "      <th>EV2022Q1</th>\n",
       "      <th>EV2022Q2</th>\n",
       "      <th>EV2022Q3</th>\n",
       "      <th>EV2022Q4</th>\n",
       "      <th>EV2023Q1</th>\n",
       "      <th>EV2023Q2</th>\n",
       "      <th>EV2023Q3</th>\n",
       "    </tr>\n",
       "  </thead>\n",
       "  <tbody>\n",
       "    <tr>\n",
       "      <th>0</th>\n",
       "      <td>K0A</td>\n",
       "      <td>645.0</td>\n",
       "      <td>745.0</td>\n",
       "      <td>871.0</td>\n",
       "      <td>928.0</td>\n",
       "      <td>987.0</td>\n",
       "      <td>1088.0</td>\n",
       "      <td>1195.0</td>\n",
       "    </tr>\n",
       "    <tr>\n",
       "      <th>1</th>\n",
       "      <td>K0B</td>\n",
       "      <td>95.0</td>\n",
       "      <td>103.0</td>\n",
       "      <td>107.0</td>\n",
       "      <td>118.0</td>\n",
       "      <td>119.0</td>\n",
       "      <td>131.0</td>\n",
       "      <td>145.0</td>\n",
       "    </tr>\n",
       "    <tr>\n",
       "      <th>2</th>\n",
       "      <td>K0C</td>\n",
       "      <td>167.0</td>\n",
       "      <td>193.0</td>\n",
       "      <td>215.0</td>\n",
       "      <td>234.0</td>\n",
       "      <td>242.0</td>\n",
       "      <td>269.0</td>\n",
       "      <td>302.0</td>\n",
       "    </tr>\n",
       "    <tr>\n",
       "      <th>3</th>\n",
       "      <td>K0E</td>\n",
       "      <td>128.0</td>\n",
       "      <td>140.0</td>\n",
       "      <td>155.0</td>\n",
       "      <td>162.0</td>\n",
       "      <td>173.0</td>\n",
       "      <td>182.0</td>\n",
       "      <td>208.0</td>\n",
       "    </tr>\n",
       "    <tr>\n",
       "      <th>4</th>\n",
       "      <td>K0G</td>\n",
       "      <td>197.0</td>\n",
       "      <td>223.0</td>\n",
       "      <td>254.0</td>\n",
       "      <td>272.0</td>\n",
       "      <td>294.0</td>\n",
       "      <td>326.0</td>\n",
       "      <td>352.0</td>\n",
       "    </tr>\n",
       "  </tbody>\n",
       "</table>\n",
       "</div>"
      ],
      "text/plain": [
       "   FSA  EV2022Q1  EV2022Q2  EV2022Q3  EV2022Q4  EV2023Q1  EV2023Q2  EV2023Q3\n",
       "0  K0A     645.0     745.0     871.0     928.0     987.0    1088.0    1195.0\n",
       "1  K0B      95.0     103.0     107.0     118.0     119.0     131.0     145.0\n",
       "2  K0C     167.0     193.0     215.0     234.0     242.0     269.0     302.0\n",
       "3  K0E     128.0     140.0     155.0     162.0     173.0     182.0     208.0\n",
       "4  K0G     197.0     223.0     254.0     272.0     294.0     326.0     352.0"
      ]
     },
     "execution_count": 3,
     "metadata": {},
     "output_type": "execute_result"
    }
   ],
   "source": [
    "dfEVRegistration = pd.read_csv('C:\\Tmu\\CIND820\\Ontario_EVs_CumulativeCount.csv', encoding='utf-8') \n",
    "print(dfEVRegistration.shape)\n",
    "dfEVRegistration.head(5)"
   ]
  },
  {
   "cell_type": "markdown",
   "metadata": {},
   "source": [
    "Check for missing values: "
   ]
  },
  {
   "cell_type": "code",
   "execution_count": 4,
   "metadata": {},
   "outputs": [
    {
     "data": {
      "text/plain": [
       "FSA          0\n",
       "EV2022Q1    28\n",
       "EV2022Q2    26\n",
       "EV2022Q3    22\n",
       "EV2022Q4    20\n",
       "EV2023Q1    19\n",
       "EV2023Q2    11\n",
       "EV2023Q3     6\n",
       "dtype: int64"
      ]
     },
     "execution_count": 4,
     "metadata": {},
     "output_type": "execute_result"
    }
   ],
   "source": [
    "dfEVRegistration.isna().sum()"
   ]
  },
  {
   "cell_type": "markdown",
   "metadata": {},
   "source": [
    "Replace missing values with 0: "
   ]
  },
  {
   "cell_type": "code",
   "execution_count": 5,
   "metadata": {},
   "outputs": [],
   "source": [
    "dfEVRegistration[\"EV2022Q1\"].fillna(0, inplace = True) \n",
    "dfEVRegistration[\"EV2022Q2\"].fillna(0, inplace = True) \n",
    "dfEVRegistration[\"EV2022Q3\"].fillna(0, inplace = True) \n",
    "dfEVRegistration[\"EV2022Q4\"].fillna(0, inplace = True) \n",
    "dfEVRegistration[\"EV2023Q1\"].fillna(0, inplace = True) \n",
    "dfEVRegistration[\"EV2023Q2\"].fillna(0, inplace = True) \n",
    "dfEVRegistration[\"EV2023Q3\"].fillna(0, inplace = True) "
   ]
  },
  {
   "cell_type": "markdown",
   "metadata": {},
   "source": [
    "Check to make sure missing values are gone:"
   ]
  },
  {
   "cell_type": "code",
   "execution_count": 6,
   "metadata": {},
   "outputs": [
    {
     "data": {
      "text/plain": [
       "FSA         0\n",
       "EV2022Q1    0\n",
       "EV2022Q2    0\n",
       "EV2022Q3    0\n",
       "EV2022Q4    0\n",
       "EV2023Q1    0\n",
       "EV2023Q2    0\n",
       "EV2023Q3    0\n",
       "dtype: int64"
      ]
     },
     "execution_count": 6,
     "metadata": {},
     "output_type": "execute_result"
    }
   ],
   "source": [
    "dfEVRegistration.isna().sum()"
   ]
  },
  {
   "cell_type": "markdown",
   "metadata": {
    "id": "WHeMpY0-LS7i"
   },
   "source": [
    "Add columns 'Yintercept' and 'Gradient with default values of zero to the dataframe "
   ]
  },
  {
   "cell_type": "code",
   "execution_count": 7,
   "metadata": {
    "scrolled": true
   },
   "outputs": [
    {
     "data": {
      "text/html": [
       "<div>\n",
       "<style scoped>\n",
       "    .dataframe tbody tr th:only-of-type {\n",
       "        vertical-align: middle;\n",
       "    }\n",
       "\n",
       "    .dataframe tbody tr th {\n",
       "        vertical-align: top;\n",
       "    }\n",
       "\n",
       "    .dataframe thead th {\n",
       "        text-align: right;\n",
       "    }\n",
       "</style>\n",
       "<table border=\"1\" class=\"dataframe\">\n",
       "  <thead>\n",
       "    <tr style=\"text-align: right;\">\n",
       "      <th></th>\n",
       "      <th>FSA</th>\n",
       "      <th>EV2022Q1</th>\n",
       "      <th>EV2022Q2</th>\n",
       "      <th>EV2022Q3</th>\n",
       "      <th>EV2022Q4</th>\n",
       "      <th>EV2023Q1</th>\n",
       "      <th>EV2023Q2</th>\n",
       "      <th>EV2023Q3</th>\n",
       "      <th>Yintercept</th>\n",
       "      <th>Gradient</th>\n",
       "    </tr>\n",
       "  </thead>\n",
       "  <tbody>\n",
       "    <tr>\n",
       "      <th>0</th>\n",
       "      <td>K0A</td>\n",
       "      <td>645.0</td>\n",
       "      <td>745.0</td>\n",
       "      <td>871.0</td>\n",
       "      <td>928.0</td>\n",
       "      <td>987.0</td>\n",
       "      <td>1088.0</td>\n",
       "      <td>1195.0</td>\n",
       "      <td>0</td>\n",
       "      <td>0</td>\n",
       "    </tr>\n",
       "    <tr>\n",
       "      <th>1</th>\n",
       "      <td>K0B</td>\n",
       "      <td>95.0</td>\n",
       "      <td>103.0</td>\n",
       "      <td>107.0</td>\n",
       "      <td>118.0</td>\n",
       "      <td>119.0</td>\n",
       "      <td>131.0</td>\n",
       "      <td>145.0</td>\n",
       "      <td>0</td>\n",
       "      <td>0</td>\n",
       "    </tr>\n",
       "    <tr>\n",
       "      <th>2</th>\n",
       "      <td>K0C</td>\n",
       "      <td>167.0</td>\n",
       "      <td>193.0</td>\n",
       "      <td>215.0</td>\n",
       "      <td>234.0</td>\n",
       "      <td>242.0</td>\n",
       "      <td>269.0</td>\n",
       "      <td>302.0</td>\n",
       "      <td>0</td>\n",
       "      <td>0</td>\n",
       "    </tr>\n",
       "    <tr>\n",
       "      <th>3</th>\n",
       "      <td>K0E</td>\n",
       "      <td>128.0</td>\n",
       "      <td>140.0</td>\n",
       "      <td>155.0</td>\n",
       "      <td>162.0</td>\n",
       "      <td>173.0</td>\n",
       "      <td>182.0</td>\n",
       "      <td>208.0</td>\n",
       "      <td>0</td>\n",
       "      <td>0</td>\n",
       "    </tr>\n",
       "    <tr>\n",
       "      <th>4</th>\n",
       "      <td>K0G</td>\n",
       "      <td>197.0</td>\n",
       "      <td>223.0</td>\n",
       "      <td>254.0</td>\n",
       "      <td>272.0</td>\n",
       "      <td>294.0</td>\n",
       "      <td>326.0</td>\n",
       "      <td>352.0</td>\n",
       "      <td>0</td>\n",
       "      <td>0</td>\n",
       "    </tr>\n",
       "  </tbody>\n",
       "</table>\n",
       "</div>"
      ],
      "text/plain": [
       "   FSA  EV2022Q1  EV2022Q2  EV2022Q3  EV2022Q4  EV2023Q1  EV2023Q2  EV2023Q3  \\\n",
       "0  K0A     645.0     745.0     871.0     928.0     987.0    1088.0    1195.0   \n",
       "1  K0B      95.0     103.0     107.0     118.0     119.0     131.0     145.0   \n",
       "2  K0C     167.0     193.0     215.0     234.0     242.0     269.0     302.0   \n",
       "3  K0E     128.0     140.0     155.0     162.0     173.0     182.0     208.0   \n",
       "4  K0G     197.0     223.0     254.0     272.0     294.0     326.0     352.0   \n",
       "\n",
       "   Yintercept  Gradient  \n",
       "0           0         0  \n",
       "1           0         0  \n",
       "2           0         0  \n",
       "3           0         0  \n",
       "4           0         0  "
      ]
     },
     "execution_count": 7,
     "metadata": {},
     "output_type": "execute_result"
    }
   ],
   "source": [
    "dfEVRegistration['Yintercept'] = 0 \n",
    "dfEVRegistration['Gradient']   = 0 \n",
    "dfEVRegistration.head(5)"
   ]
  },
  {
   "cell_type": "markdown",
   "metadata": {},
   "source": [
    "  \n",
    "    "
   ]
  },
  {
   "cell_type": "markdown",
   "metadata": {},
   "source": [
    "#### Determine gradient for EV registration count:"
   ]
  },
  {
   "cell_type": "markdown",
   "metadata": {},
   "source": [
    "For each row in dfEVRegistration, estimate the gradient and y-intercept using simple regression:"
   ]
  },
  {
   "cell_type": "code",
   "execution_count": 8,
   "metadata": {
    "id": "hTabQVd2BRdm"
   },
   "outputs": [
    {
     "name": "stdout",
     "output_type": "stream",
     "text": [
      "   FSA  EV2022Q1  EV2022Q2  EV2022Q3  EV2022Q4  EV2023Q1  EV2023Q2  EV2023Q3  \\\n",
      "0  K0A     645.0     745.0     871.0     928.0     987.0    1088.0    1195.0   \n",
      "1  K0B      95.0     103.0     107.0     118.0     119.0     131.0     145.0   \n",
      "2  K0C     167.0     193.0     215.0     234.0     242.0     269.0     302.0   \n",
      "3  K0E     128.0     140.0     155.0     162.0     173.0     182.0     208.0   \n",
      "4  K0G     197.0     223.0     254.0     272.0     294.0     326.0     352.0   \n",
      "\n",
      "   Yintercept    Gradient  \n",
      "0   87.571429  660.000000  \n",
      "1    7.785714   93.500000  \n",
      "2   20.857143  169.142857  \n",
      "3   12.214286  127.357143  \n",
      "4   25.392857  197.821429  \n",
      "\n",
      "\n",
      "EV Registrations = [ 95. 103. 107. 118. 119. 131. 145.]  \n",
      "Coefficients = [93.5         7.78571429]\n"
     ]
    },
    {
     "data": {
      "image/png": "[encoded data removed]",
      "text/plain": [
       "<Figure size 640x480 with 1 Axes>"
      ]
     },
     "metadata": {},
     "output_type": "display_data"
    },
    {
     "name": "stdout",
     "output_type": "stream",
     "text": [
      "\n",
      "\n",
      "EV Registrations = [128. 140. 155. 162. 173. 182. 208.]  \n",
      "Coefficients = [127.35714286  12.21428571]\n"
     ]
    },
    {
     "data": {
      "image/png": "[encoded data removed]",
      "text/plain": [
       "<Figure size 640x480 with 1 Axes>"
      ]
     },
     "metadata": {},
     "output_type": "display_data"
    },
    {
     "name": "stdout",
     "output_type": "stream",
     "text": [
      "\n",
      "\n",
      "EV Registrations = [22. 25. 30. 34. 34. 41. 45.]  \n",
      "Coefficients = [21.75  3.75]\n"
     ]
    },
    {
     "data": {
      "image/png": "[encoded data removed]",
      "text/plain": [
       "<Figure size 640x480 with 1 Axes>"
      ]
     },
     "metadata": {},
     "output_type": "display_data"
    },
    {
     "name": "stdout",
     "output_type": "stream",
     "text": [
      "\n",
      "\n",
      "EV Registrations = [ 682.  765.  895. 1019. 1097. 1205. 1335.]  \n",
      "Coefficients = [673.89285714 108.60714286]\n"
     ]
    },
    {
     "data": {
      "image/png": "[encoded data removed]",
      "text/plain": [
       "<Figure size 640x480 with 1 Axes>"
      ]
     },
     "metadata": {},
     "output_type": "display_data"
    },
    {
     "name": "stdout",
     "output_type": "stream",
     "text": [
      "\n",
      "\n",
      "EV Registrations = [45. 50. 52. 55. 63. 68. 78.]  \n",
      "Coefficients = [43.07142857  5.21428571]\n"
     ]
    },
    {
     "data": {
      "image/png": "[encoded data removed]",
      "text/plain": [
       "<Figure size 640x480 with 1 Axes>"
      ]
     },
     "metadata": {},
     "output_type": "display_data"
    }
   ],
   "source": [
    "def estimateRegCoeff(x, y):\n",
    "    \n",
    "    # number of records:\n",
    "    n = np.size(x)\n",
    " \n",
    "    # mean of x and y vector\n",
    "    mean_x = np.mean(x)\n",
    "    mean_y = np.mean(y)\n",
    " \n",
    "    # cross-deviation and deviation about x\n",
    "    SS_xy = np.sum(y*x) - n*mean_y*mean_x\n",
    "    SS_xx = np.sum(x*x) - n*mean_x*mean_x\n",
    " \n",
    "    # slope and y-intercept\n",
    "    slope       = SS_xy / SS_xx\n",
    "    y_intercept = mean_y - slope*mean_x\n",
    " \n",
    "    return (y_intercept, slope) \n",
    "\n",
    "\n",
    "def plot_regression_line(x, y, b):\n",
    "    # plotting the actual points as scatter plot\n",
    "    plt.scatter(x, y, color = \"m\",\n",
    "               marker = \"o\", s = 30)\n",
    " \n",
    "    # predicted response vector\n",
    "    y_pred = b[0] + b[1]*x\n",
    " \n",
    "    # plotting the regression line\n",
    "    plt.plot(x, y_pred, color = \"g\")\n",
    " \n",
    "    # putting labels\n",
    "    plt.xlabel('Quarter')\n",
    "    plt.ylabel('Cumulative EV Registration Count')\n",
    " \n",
    "    # Show the plot\n",
    "    plt.show()\n",
    "    \n",
    " \n",
    "def main(): \n",
    "        \n",
    "    # 7 observations - 4 quarters in 2022, 3 quarters in 2023\n",
    "    x = np.array([0,1,2,3,4,5,6]) \n",
    "    \n",
    "    nRecords = len(dfEVRegistration) \n",
    "    \n",
    "    for i in range(nRecords):\n",
    "         \n",
    "        y = np.array([])\n",
    "        # appending to the array \n",
    "        evCell = dfEVRegistration['EV2022Q1'].values[i]\n",
    "        y = np.append(y, [evCell])\n",
    "        evCell = dfEVRegistration['EV2022Q2'].values[i]\n",
    "        y = np.append(y, [evCell]) \n",
    "        evCell = dfEVRegistration['EV2022Q3'].values[i]\n",
    "        y = np.append(y, [evCell]) \n",
    "        evCell = dfEVRegistration['EV2022Q4'].values[i]\n",
    "        y = np.append(y, [evCell])\n",
    "        evCell = dfEVRegistration['EV2023Q1'].values[i]\n",
    "        y = np.append(y, [evCell])\n",
    "        evCell = dfEVRegistration['EV2023Q2'].values[i]\n",
    "        y = np.append(y, [evCell]) \n",
    "        evCell = dfEVRegistration['EV2023Q3'].values[i]\n",
    "        y = np.append(y, [evCell]) \n",
    "\n",
    "        #print(y)\n",
    "        # estimate simple regression coefficients\n",
    "        b = estimateRegCoeff(x, y)\n",
    "        #print(\"Estimated coefficients:\\nintercept = {}  \\nslope = {}\".format(b[0], b[1])) \n",
    "        \n",
    "        dfEVRegistration.loc[i,['Gradient','Yintercept']] = [b[0],b[1]] \n",
    "    \n",
    "    print(dfEVRegistration.head(5))\n",
    " \n",
    "    # See few plots of regression line \n",
    "    for i in (1,3,70,200, 450): \n",
    "        y = np.array([]) \n",
    "        b = np.array([])\n",
    "        \n",
    "        # appending registration count to the array \n",
    "        evCell = dfEVRegistration['EV2022Q1'].values[i]\n",
    "        y = np.append(y, [evCell])\n",
    "        evCell = dfEVRegistration['EV2022Q2'].values[i]\n",
    "        y = np.append(y, [evCell]) \n",
    "        evCell = dfEVRegistration['EV2022Q3'].values[i]\n",
    "        y = np.append(y, [evCell]) \n",
    "        evCell = dfEVRegistration['EV2022Q4'].values[i]\n",
    "        y = np.append(y, [evCell])\n",
    "        evCell = dfEVRegistration['EV2023Q1'].values[i]\n",
    "        y = np.append(y, [evCell])\n",
    "        evCell = dfEVRegistration['EV2023Q2'].values[i]\n",
    "        y = np.append(y, [evCell]) \n",
    "        evCell = dfEVRegistration['EV2023Q3'].values[i]\n",
    "        y = np.append(y, [evCell]) \n",
    "        \n",
    "        #appending regression coefficients\n",
    "        evCell = dfEVRegistration['Gradient'].values[i]\n",
    "        b = np.append(b, [evCell])\n",
    "        evCell = dfEVRegistration['Yintercept'].values[i]\n",
    "        b = np.append(b, [evCell]) \n",
    "        \n",
    "        print(\"\\n\\nEV Registrations = {}  \\nCoefficients = {}\".format(y, b))\n",
    "        \n",
    "        plot_regression_line(x, y, b)\n",
    " \n",
    "if __name__ == \"__main__\":\n",
    "    main()"
   ]
  },
  {
   "cell_type": "markdown",
   "metadata": {},
   "source": [
    "  \n",
    "    "
   ]
  },
  {
   "cell_type": "markdown",
   "metadata": {},
   "source": [
    "  "
   ]
  },
  {
   "cell_type": "markdown",
   "metadata": {},
   "source": [
    "### Part 2: Predict gradient based on Income and Source of Income"
   ]
  },
  {
   "cell_type": "markdown",
   "metadata": {},
   "source": [
    "##### Data Load and Clean-up:"
   ]
  },
  {
   "cell_type": "markdown",
   "metadata": {},
   "source": [
    "Read the csv file from the local machine containing personal income per source in each of Ontario's forward sortation area. This file can also be accessed via GitHub: https://github.com/iresearch23/cind820/blob/main/Ontario_WeightedIncome_PerSource.csv "
   ]
  },
  {
   "cell_type": "code",
   "execution_count": 9,
   "metadata": {},
   "outputs": [
    {
     "name": "stdout",
     "output_type": "stream",
     "text": [
      "(525, 7)\n"
     ]
    },
    {
     "data": {
      "text/html": [
       "<div>\n",
       "<style scoped>\n",
       "    .dataframe tbody tr th:only-of-type {\n",
       "        vertical-align: middle;\n",
       "    }\n",
       "\n",
       "    .dataframe tbody tr th {\n",
       "        vertical-align: top;\n",
       "    }\n",
       "\n",
       "    .dataframe thead th {\n",
       "        text-align: right;\n",
       "    }\n",
       "</style>\n",
       "<table border=\"1\" class=\"dataframe\">\n",
       "  <thead>\n",
       "    <tr style=\"text-align: right;\">\n",
       "      <th></th>\n",
       "      <th>FSA</th>\n",
       "      <th>WtdEmploymentIncome</th>\n",
       "      <th>WtdPensionIncome</th>\n",
       "      <th>WtdInvestmentIncome</th>\n",
       "      <th>WtdSelfEmpIncome</th>\n",
       "      <th>WtdBenefitIncome</th>\n",
       "      <th>WtdOtherIncome</th>\n",
       "    </tr>\n",
       "  </thead>\n",
       "  <tbody>\n",
       "    <tr>\n",
       "      <th>0</th>\n",
       "      <td>K0A</td>\n",
       "      <td>1180583638</td>\n",
       "      <td>174107115</td>\n",
       "      <td>67101015</td>\n",
       "      <td>9991241</td>\n",
       "      <td>19249315</td>\n",
       "      <td>41094462</td>\n",
       "    </tr>\n",
       "    <tr>\n",
       "      <th>1</th>\n",
       "      <td>K0B</td>\n",
       "      <td>131846461</td>\n",
       "      <td>35705964</td>\n",
       "      <td>12872775</td>\n",
       "      <td>1741128</td>\n",
       "      <td>7779233</td>\n",
       "      <td>5982520</td>\n",
       "    </tr>\n",
       "    <tr>\n",
       "      <th>2</th>\n",
       "      <td>K0C</td>\n",
       "      <td>374023803</td>\n",
       "      <td>91756996</td>\n",
       "      <td>25979482</td>\n",
       "      <td>3541081</td>\n",
       "      <td>16401083</td>\n",
       "      <td>15257693</td>\n",
       "    </tr>\n",
       "    <tr>\n",
       "      <th>3</th>\n",
       "      <td>K0E</td>\n",
       "      <td>261467549</td>\n",
       "      <td>78028866</td>\n",
       "      <td>15588684</td>\n",
       "      <td>2235807</td>\n",
       "      <td>12750040</td>\n",
       "      <td>14100813</td>\n",
       "    </tr>\n",
       "    <tr>\n",
       "      <th>4</th>\n",
       "      <td>K0G</td>\n",
       "      <td>288977631</td>\n",
       "      <td>93333286</td>\n",
       "      <td>18809557</td>\n",
       "      <td>2755332</td>\n",
       "      <td>8808412</td>\n",
       "      <td>15779711</td>\n",
       "    </tr>\n",
       "  </tbody>\n",
       "</table>\n",
       "</div>"
      ],
      "text/plain": [
       "   FSA  WtdEmploymentIncome  WtdPensionIncome  WtdInvestmentIncome  \\\n",
       "0  K0A           1180583638         174107115             67101015   \n",
       "1  K0B            131846461          35705964             12872775   \n",
       "2  K0C            374023803          91756996             25979482   \n",
       "3  K0E            261467549          78028866             15588684   \n",
       "4  K0G            288977631          93333286             18809557   \n",
       "\n",
       "   WtdSelfEmpIncome  WtdBenefitIncome  WtdOtherIncome  \n",
       "0           9991241          19249315        41094462  \n",
       "1           1741128           7779233         5982520  \n",
       "2           3541081          16401083        15257693  \n",
       "3           2235807          12750040        14100813  \n",
       "4           2755332           8808412        15779711  "
      ]
     },
     "execution_count": 9,
     "metadata": {},
     "output_type": "execute_result"
    }
   ],
   "source": [
    "dfWtdIncomePerSource = pd.read_csv('C:\\Tmu\\CIND820\\Ontario_WeightedIncome_PerSource.csv', encoding='utf-8') \n",
    "print(dfWtdIncomePerSource.shape)\n",
    "dfWtdIncomePerSource.head(5) "
   ]
  },
  {
   "cell_type": "markdown",
   "metadata": {},
   "source": [
    "Check for missing values:"
   ]
  },
  {
   "cell_type": "code",
   "execution_count": 10,
   "metadata": {},
   "outputs": [
    {
     "data": {
      "text/plain": [
       "FSA                    0\n",
       "WtdEmploymentIncome    0\n",
       "WtdPensionIncome       0\n",
       "WtdInvestmentIncome    0\n",
       "WtdSelfEmpIncome       0\n",
       "WtdBenefitIncome       0\n",
       "WtdOtherIncome         0\n",
       "dtype: int64"
      ]
     },
     "execution_count": 10,
     "metadata": {},
     "output_type": "execute_result"
    }
   ],
   "source": [
    "dfWtdIncomePerSource.isna().sum()"
   ]
  },
  {
   "cell_type": "markdown",
   "metadata": {},
   "source": [
    "Replace null values, if any, with 0:"
   ]
  },
  {
   "cell_type": "code",
   "execution_count": 11,
   "metadata": {},
   "outputs": [],
   "source": [
    "dfWtdIncomePerSource[\"WtdEmploymentIncome\"].fillna(0, inplace = True) \n",
    "dfWtdIncomePerSource[\"WtdSelfEmpIncome\"].fillna(0, inplace = True) \n",
    "dfWtdIncomePerSource[\"WtdPensionIncome\"].fillna(0, inplace = True) \n",
    "dfWtdIncomePerSource[\"WtdInvestmentIncome\"].fillna(0, inplace = True) \n",
    "dfWtdIncomePerSource[\"WtdBenefitIncome\"].fillna(0, inplace = True) \n",
    "dfWtdIncomePerSource[\"WtdOtherIncome\"].fillna(0, inplace = True) "
   ]
  },
  {
   "cell_type": "markdown",
   "metadata": {},
   "source": [
    "Check to make sure missing values are gone:"
   ]
  },
  {
   "cell_type": "code",
   "execution_count": 12,
   "metadata": {},
   "outputs": [
    {
     "data": {
      "text/plain": [
       "FSA                    0\n",
       "WtdEmploymentIncome    0\n",
       "WtdPensionIncome       0\n",
       "WtdInvestmentIncome    0\n",
       "WtdSelfEmpIncome       0\n",
       "WtdBenefitIncome       0\n",
       "WtdOtherIncome         0\n",
       "dtype: int64"
      ]
     },
     "execution_count": 12,
     "metadata": {},
     "output_type": "execute_result"
    }
   ],
   "source": [
    "dfWtdIncomePerSource.isna().sum()"
   ]
  },
  {
   "cell_type": "markdown",
   "metadata": {},
   "source": [
    "Check correlation:"
   ]
  },
  {
   "cell_type": "code",
   "execution_count": 13,
   "metadata": {},
   "outputs": [
    {
     "data": {
      "text/html": [
       "<div>\n",
       "<style scoped>\n",
       "    .dataframe tbody tr th:only-of-type {\n",
       "        vertical-align: middle;\n",
       "    }\n",
       "\n",
       "    .dataframe tbody tr th {\n",
       "        vertical-align: top;\n",
       "    }\n",
       "\n",
       "    .dataframe thead th {\n",
       "        text-align: right;\n",
       "    }\n",
       "</style>\n",
       "<table border=\"1\" class=\"dataframe\">\n",
       "  <thead>\n",
       "    <tr style=\"text-align: right;\">\n",
       "      <th></th>\n",
       "      <th>WtdEmploymentIncome</th>\n",
       "      <th>WtdPensionIncome</th>\n",
       "      <th>WtdInvestmentIncome</th>\n",
       "      <th>WtdSelfEmpIncome</th>\n",
       "      <th>WtdBenefitIncome</th>\n",
       "      <th>WtdOtherIncome</th>\n",
       "    </tr>\n",
       "  </thead>\n",
       "  <tbody>\n",
       "    <tr>\n",
       "      <th>WtdEmploymentIncome</th>\n",
       "      <td>1.000000</td>\n",
       "      <td>0.336690</td>\n",
       "      <td>0.464325</td>\n",
       "      <td>0.693096</td>\n",
       "      <td>0.477752</td>\n",
       "      <td>0.874617</td>\n",
       "    </tr>\n",
       "    <tr>\n",
       "      <th>WtdPensionIncome</th>\n",
       "      <td>0.336690</td>\n",
       "      <td>1.000000</td>\n",
       "      <td>0.230955</td>\n",
       "      <td>0.276162</td>\n",
       "      <td>0.338046</td>\n",
       "      <td>0.378981</td>\n",
       "    </tr>\n",
       "    <tr>\n",
       "      <th>WtdInvestmentIncome</th>\n",
       "      <td>0.464325</td>\n",
       "      <td>0.230955</td>\n",
       "      <td>1.000000</td>\n",
       "      <td>0.795886</td>\n",
       "      <td>-0.063307</td>\n",
       "      <td>0.519549</td>\n",
       "    </tr>\n",
       "    <tr>\n",
       "      <th>WtdSelfEmpIncome</th>\n",
       "      <td>0.693096</td>\n",
       "      <td>0.276162</td>\n",
       "      <td>0.795886</td>\n",
       "      <td>1.000000</td>\n",
       "      <td>0.179042</td>\n",
       "      <td>0.693825</td>\n",
       "    </tr>\n",
       "    <tr>\n",
       "      <th>WtdBenefitIncome</th>\n",
       "      <td>0.477752</td>\n",
       "      <td>0.338046</td>\n",
       "      <td>-0.063307</td>\n",
       "      <td>0.179042</td>\n",
       "      <td>1.000000</td>\n",
       "      <td>0.622184</td>\n",
       "    </tr>\n",
       "    <tr>\n",
       "      <th>WtdOtherIncome</th>\n",
       "      <td>0.874617</td>\n",
       "      <td>0.378981</td>\n",
       "      <td>0.519549</td>\n",
       "      <td>0.693825</td>\n",
       "      <td>0.622184</td>\n",
       "      <td>1.000000</td>\n",
       "    </tr>\n",
       "  </tbody>\n",
       "</table>\n",
       "</div>"
      ],
      "text/plain": [
       "                     WtdEmploymentIncome  WtdPensionIncome  \\\n",
       "WtdEmploymentIncome             1.000000          0.336690   \n",
       "WtdPensionIncome                0.336690          1.000000   \n",
       "WtdInvestmentIncome             0.464325          0.230955   \n",
       "WtdSelfEmpIncome                0.693096          0.276162   \n",
       "WtdBenefitIncome                0.477752          0.338046   \n",
       "WtdOtherIncome                  0.874617          0.378981   \n",
       "\n",
       "                     WtdInvestmentIncome  WtdSelfEmpIncome  WtdBenefitIncome  \\\n",
       "WtdEmploymentIncome             0.464325          0.693096          0.477752   \n",
       "WtdPensionIncome                0.230955          0.276162          0.338046   \n",
       "WtdInvestmentIncome             1.000000          0.795886         -0.063307   \n",
       "WtdSelfEmpIncome                0.795886          1.000000          0.179042   \n",
       "WtdBenefitIncome               -0.063307          0.179042          1.000000   \n",
       "WtdOtherIncome                  0.519549          0.693825          0.622184   \n",
       "\n",
       "                     WtdOtherIncome  \n",
       "WtdEmploymentIncome        0.874617  \n",
       "WtdPensionIncome           0.378981  \n",
       "WtdInvestmentIncome        0.519549  \n",
       "WtdSelfEmpIncome           0.693825  \n",
       "WtdBenefitIncome           0.622184  \n",
       "WtdOtherIncome             1.000000  "
      ]
     },
     "execution_count": 13,
     "metadata": {},
     "output_type": "execute_result"
    }
   ],
   "source": [
    "dfWtdIncomePerSource.drop('FSA', axis=1).corr()"
   ]
  },
  {
   "cell_type": "markdown",
   "metadata": {},
   "source": [
    "Plot correlation heatmap:"
   ]
  },
  {
   "cell_type": "code",
   "execution_count": 14,
   "metadata": {},
   "outputs": [
    {
     "data": {
      "image/png": "[encoded data removed]",
      "text/plain": [
       "<Figure size 640x480 with 2 Axes>"
      ]
     },
     "metadata": {},
     "output_type": "display_data"
    }
   ],
   "source": [
    "dataplot = sb.heatmap(dfWtdIncomePerSource.drop('FSA', axis=1).corr(), cmap=\"Blues\", annot=True) \n",
    "plt.show() "
   ]
  },
  {
   "cell_type": "markdown",
   "metadata": {},
   "source": [
    "Drop one attribute from pair of attributes with correlation >= 0.7"
   ]
  },
  {
   "cell_type": "code",
   "execution_count": 15,
   "metadata": {},
   "outputs": [
    {
     "data": {
      "text/html": [
       "<div>\n",
       "<style scoped>\n",
       "    .dataframe tbody tr th:only-of-type {\n",
       "        vertical-align: middle;\n",
       "    }\n",
       "\n",
       "    .dataframe tbody tr th {\n",
       "        vertical-align: top;\n",
       "    }\n",
       "\n",
       "    .dataframe thead th {\n",
       "        text-align: right;\n",
       "    }\n",
       "</style>\n",
       "<table border=\"1\" class=\"dataframe\">\n",
       "  <thead>\n",
       "    <tr style=\"text-align: right;\">\n",
       "      <th></th>\n",
       "      <th>FSA</th>\n",
       "      <th>WtdEmploymentIncome</th>\n",
       "      <th>WtdPensionIncome</th>\n",
       "      <th>WtdSelfEmpIncome</th>\n",
       "      <th>WtdBenefitIncome</th>\n",
       "    </tr>\n",
       "  </thead>\n",
       "  <tbody>\n",
       "    <tr>\n",
       "      <th>0</th>\n",
       "      <td>K0A</td>\n",
       "      <td>1180583638</td>\n",
       "      <td>174107115</td>\n",
       "      <td>9991241</td>\n",
       "      <td>19249315</td>\n",
       "    </tr>\n",
       "    <tr>\n",
       "      <th>1</th>\n",
       "      <td>K0B</td>\n",
       "      <td>131846461</td>\n",
       "      <td>35705964</td>\n",
       "      <td>1741128</td>\n",
       "      <td>7779233</td>\n",
       "    </tr>\n",
       "    <tr>\n",
       "      <th>2</th>\n",
       "      <td>K0C</td>\n",
       "      <td>374023803</td>\n",
       "      <td>91756996</td>\n",
       "      <td>3541081</td>\n",
       "      <td>16401083</td>\n",
       "    </tr>\n",
       "    <tr>\n",
       "      <th>3</th>\n",
       "      <td>K0E</td>\n",
       "      <td>261467549</td>\n",
       "      <td>78028866</td>\n",
       "      <td>2235807</td>\n",
       "      <td>12750040</td>\n",
       "    </tr>\n",
       "    <tr>\n",
       "      <th>4</th>\n",
       "      <td>K0G</td>\n",
       "      <td>288977631</td>\n",
       "      <td>93333286</td>\n",
       "      <td>2755332</td>\n",
       "      <td>8808412</td>\n",
       "    </tr>\n",
       "  </tbody>\n",
       "</table>\n",
       "</div>"
      ],
      "text/plain": [
       "   FSA  WtdEmploymentIncome  WtdPensionIncome  WtdSelfEmpIncome  \\\n",
       "0  K0A           1180583638         174107115           9991241   \n",
       "1  K0B            131846461          35705964           1741128   \n",
       "2  K0C            374023803          91756996           3541081   \n",
       "3  K0E            261467549          78028866           2235807   \n",
       "4  K0G            288977631          93333286           2755332   \n",
       "\n",
       "   WtdBenefitIncome  \n",
       "0          19249315  \n",
       "1           7779233  \n",
       "2          16401083  \n",
       "3          12750040  \n",
       "4           8808412  "
      ]
     },
     "execution_count": 15,
     "metadata": {},
     "output_type": "execute_result"
    }
   ],
   "source": [
    "del dfWtdIncomePerSource['WtdOtherIncome'] \n",
    "del dfWtdIncomePerSource['WtdInvestmentIncome'] \n",
    "dfWtdIncomePerSource.head(5) "
   ]
  },
  {
   "cell_type": "markdown",
   "metadata": {},
   "source": [
    "Plot correlation heatmap to verify correlation < 0.7"
   ]
  },
  {
   "cell_type": "code",
   "execution_count": 16,
   "metadata": {},
   "outputs": [
    {
     "data": {
      "image/png": "[encoded data removed]",
      "text/plain": [
       "<Figure size 640x480 with 2 Axes>"
      ]
     },
     "metadata": {},
     "output_type": "display_data"
    }
   ],
   "source": [
    "dataplot = sb.heatmap(dfWtdIncomePerSource.drop('FSA', axis=1).corr(), cmap=\"Blues\", annot=True) \n",
    "plt.show() "
   ]
  },
  {
   "cell_type": "markdown",
   "metadata": {},
   "source": [
    " "
   ]
  },
  {
   "cell_type": "code",
   "execution_count": 17,
   "metadata": {},
   "outputs": [
    {
     "data": {
      "text/html": [
       "<div>\n",
       "<style scoped>\n",
       "    .dataframe tbody tr th:only-of-type {\n",
       "        vertical-align: middle;\n",
       "    }\n",
       "\n",
       "    .dataframe tbody tr th {\n",
       "        vertical-align: top;\n",
       "    }\n",
       "\n",
       "    .dataframe thead th {\n",
       "        text-align: right;\n",
       "    }\n",
       "</style>\n",
       "<table border=\"1\" class=\"dataframe\">\n",
       "  <thead>\n",
       "    <tr style=\"text-align: right;\">\n",
       "      <th></th>\n",
       "      <th>WtdEmploymentIncome</th>\n",
       "      <th>WtdPensionIncome</th>\n",
       "      <th>WtdSelfEmpIncome</th>\n",
       "      <th>WtdBenefitIncome</th>\n",
       "    </tr>\n",
       "  </thead>\n",
       "  <tbody>\n",
       "    <tr>\n",
       "      <th>count</th>\n",
       "      <td>5.250000e+02</td>\n",
       "      <td>5.250000e+02</td>\n",
       "      <td>5.250000e+02</td>\n",
       "      <td>5.250000e+02</td>\n",
       "    </tr>\n",
       "    <tr>\n",
       "      <th>mean</th>\n",
       "      <td>2.395274e+08</td>\n",
       "      <td>2.852788e+07</td>\n",
       "      <td>2.503401e+06</td>\n",
       "      <td>9.058794e+06</td>\n",
       "    </tr>\n",
       "    <tr>\n",
       "      <th>std</th>\n",
       "      <td>2.038361e+08</td>\n",
       "      <td>2.608942e+07</td>\n",
       "      <td>2.885245e+06</td>\n",
       "      <td>7.458949e+06</td>\n",
       "    </tr>\n",
       "    <tr>\n",
       "      <th>min</th>\n",
       "      <td>1.013330e+05</td>\n",
       "      <td>0.000000e+00</td>\n",
       "      <td>0.000000e+00</td>\n",
       "      <td>0.000000e+00</td>\n",
       "    </tr>\n",
       "    <tr>\n",
       "      <th>25%</th>\n",
       "      <td>1.072442e+08</td>\n",
       "      <td>1.219278e+07</td>\n",
       "      <td>6.697590e+05</td>\n",
       "      <td>3.404927e+06</td>\n",
       "    </tr>\n",
       "    <tr>\n",
       "      <th>50%</th>\n",
       "      <td>1.868204e+08</td>\n",
       "      <td>2.182338e+07</td>\n",
       "      <td>1.515815e+06</td>\n",
       "      <td>7.779233e+06</td>\n",
       "    </tr>\n",
       "    <tr>\n",
       "      <th>75%</th>\n",
       "      <td>3.198277e+08</td>\n",
       "      <td>3.736638e+07</td>\n",
       "      <td>2.981993e+06</td>\n",
       "      <td>1.270416e+07</td>\n",
       "    </tr>\n",
       "    <tr>\n",
       "      <th>max</th>\n",
       "      <td>1.330043e+09</td>\n",
       "      <td>2.525722e+08</td>\n",
       "      <td>1.763455e+07</td>\n",
       "      <td>4.220975e+07</td>\n",
       "    </tr>\n",
       "  </tbody>\n",
       "</table>\n",
       "</div>"
      ],
      "text/plain": [
       "       WtdEmploymentIncome  WtdPensionIncome  WtdSelfEmpIncome  \\\n",
       "count         5.250000e+02      5.250000e+02      5.250000e+02   \n",
       "mean          2.395274e+08      2.852788e+07      2.503401e+06   \n",
       "std           2.038361e+08      2.608942e+07      2.885245e+06   \n",
       "min           1.013330e+05      0.000000e+00      0.000000e+00   \n",
       "25%           1.072442e+08      1.219278e+07      6.697590e+05   \n",
       "50%           1.868204e+08      2.182338e+07      1.515815e+06   \n",
       "75%           3.198277e+08      3.736638e+07      2.981993e+06   \n",
       "max           1.330043e+09      2.525722e+08      1.763455e+07   \n",
       "\n",
       "       WtdBenefitIncome  \n",
       "count      5.250000e+02  \n",
       "mean       9.058794e+06  \n",
       "std        7.458949e+06  \n",
       "min        0.000000e+00  \n",
       "25%        3.404927e+06  \n",
       "50%        7.779233e+06  \n",
       "75%        1.270416e+07  \n",
       "max        4.220975e+07  "
      ]
     },
     "execution_count": 17,
     "metadata": {},
     "output_type": "execute_result"
    }
   ],
   "source": [
    "dfWtdIncomePerSource.describe()"
   ]
  },
  {
   "cell_type": "code",
   "execution_count": 18,
   "metadata": {},
   "outputs": [
    {
     "name": "stdout",
     "output_type": "stream",
     "text": [
      "28527880.773333333\n",
      "26089420.56496223\n"
     ]
    }
   ],
   "source": [
    "print(dfWtdIncomePerSource[\"WtdPensionIncome\"].mean()) \n",
    "print(dfWtdIncomePerSource[\"WtdPensionIncome\"].std())"
   ]
  },
  {
   "cell_type": "markdown",
   "metadata": {},
   "source": [
    " "
   ]
  },
  {
   "cell_type": "markdown",
   "metadata": {},
   "source": [
    "Remove outliers more than 3 std away:"
   ]
  },
  {
   "cell_type": "code",
   "execution_count": 19,
   "metadata": {},
   "outputs": [
    {
     "data": {
      "text/plain": [
       "(525, 5)"
      ]
     },
     "execution_count": 19,
     "metadata": {},
     "output_type": "execute_result"
    }
   ],
   "source": [
    "dfWtdIncomePerSource.shape"
   ]
  },
  {
   "cell_type": "code",
   "execution_count": 20,
   "metadata": {},
   "outputs": [
    {
     "name": "stdout",
     "output_type": "stream",
     "text": [
      "(511, 5)\n",
      "(504, 5)\n",
      "(494, 5)\n",
      "(486, 5)\n"
     ]
    }
   ],
   "source": [
    "EmploymentIncome_mean = dfWtdIncomePerSource[\"WtdEmploymentIncome\"].mean() \n",
    "EmploymentIncome_std  = dfWtdIncomePerSource[\"WtdEmploymentIncome\"].std()  \n",
    "\n",
    "PensionIncome_mean    = dfWtdIncomePerSource[\"WtdPensionIncome\"].mean() \n",
    "PensionIncome_std     = dfWtdIncomePerSource[\"WtdPensionIncome\"].std() \n",
    "\n",
    "SelfEmpIncome_mean    = dfWtdIncomePerSource[\"WtdSelfEmpIncome\"].mean() \n",
    "SelfEmpIncome_std     = dfWtdIncomePerSource[\"WtdSelfEmpIncome\"].std() \n",
    "\n",
    "BenefitIncome_mean    = dfWtdIncomePerSource[\"WtdBenefitIncome\"].mean() \n",
    "BenefitIncome_std     = dfWtdIncomePerSource[\"WtdBenefitIncome\"].std() \n",
    "\n",
    "dfWtdIncomePerSource = dfWtdIncomePerSource.loc[dfWtdIncomePerSource[\"WtdEmploymentIncome\"] < EmploymentIncome_mean + 3 * EmploymentIncome_std] \n",
    "print(dfWtdIncomePerSource.shape) \n",
    "\n",
    "dfWtdIncomePerSource = dfWtdIncomePerSource.loc[dfWtdIncomePerSource[\"WtdPensionIncome\"] < PensionIncome_mean + 3 * PensionIncome_std] \n",
    "print(dfWtdIncomePerSource.shape) \n",
    "\n",
    "dfWtdIncomePerSource = dfWtdIncomePerSource.loc[dfWtdIncomePerSource[\"WtdSelfEmpIncome\"] < SelfEmpIncome_mean + 3 * SelfEmpIncome_std] \n",
    "print(dfWtdIncomePerSource.shape) \n",
    "\n",
    "dfWtdIncomePerSource = dfWtdIncomePerSource.loc[dfWtdIncomePerSource[\"WtdBenefitIncome\"] < BenefitIncome_mean + 3 * BenefitIncome_std] \n",
    "print(dfWtdIncomePerSource.shape) "
   ]
  },
  {
   "cell_type": "markdown",
   "metadata": {},
   "source": [
    " "
   ]
  },
  {
   "cell_type": "markdown",
   "metadata": {},
   "source": [
    "Normalise the numeric attributes:"
   ]
  },
  {
   "cell_type": "code",
   "execution_count": 21,
   "metadata": {},
   "outputs": [
    {
     "data": {
      "text/html": [
       "<div>\n",
       "<style scoped>\n",
       "    .dataframe tbody tr th:only-of-type {\n",
       "        vertical-align: middle;\n",
       "    }\n",
       "\n",
       "    .dataframe tbody tr th {\n",
       "        vertical-align: top;\n",
       "    }\n",
       "\n",
       "    .dataframe thead th {\n",
       "        text-align: right;\n",
       "    }\n",
       "</style>\n",
       "<table border=\"1\" class=\"dataframe\">\n",
       "  <thead>\n",
       "    <tr style=\"text-align: right;\">\n",
       "      <th></th>\n",
       "      <th>FSA</th>\n",
       "      <th>WtdEmploymentIncome</th>\n",
       "      <th>WtdPensionIncome</th>\n",
       "      <th>WtdSelfEmpIncome</th>\n",
       "      <th>WtdBenefitIncome</th>\n",
       "    </tr>\n",
       "  </thead>\n",
       "  <tbody>\n",
       "    <tr>\n",
       "      <th>1</th>\n",
       "      <td>K0B</td>\n",
       "      <td>0.157169</td>\n",
       "      <td>0.346620</td>\n",
       "      <td>0.160442</td>\n",
       "      <td>0.255584</td>\n",
       "    </tr>\n",
       "    <tr>\n",
       "      <th>2</th>\n",
       "      <td>K0C</td>\n",
       "      <td>0.446082</td>\n",
       "      <td>0.890743</td>\n",
       "      <td>0.326305</td>\n",
       "      <td>0.538852</td>\n",
       "    </tr>\n",
       "    <tr>\n",
       "      <th>3</th>\n",
       "      <td>K0E</td>\n",
       "      <td>0.311805</td>\n",
       "      <td>0.757475</td>\n",
       "      <td>0.206026</td>\n",
       "      <td>0.418898</td>\n",
       "    </tr>\n",
       "    <tr>\n",
       "      <th>4</th>\n",
       "      <td>K0G</td>\n",
       "      <td>0.344624</td>\n",
       "      <td>0.906045</td>\n",
       "      <td>0.253899</td>\n",
       "      <td>0.289397</td>\n",
       "    </tr>\n",
       "    <tr>\n",
       "      <th>6</th>\n",
       "      <td>K0J</td>\n",
       "      <td>0.224904</td>\n",
       "      <td>0.840682</td>\n",
       "      <td>0.183582</td>\n",
       "      <td>0.404024</td>\n",
       "    </tr>\n",
       "  </tbody>\n",
       "</table>\n",
       "</div>"
      ],
      "text/plain": [
       "   FSA  WtdEmploymentIncome  WtdPensionIncome  WtdSelfEmpIncome  \\\n",
       "1  K0B             0.157169          0.346620          0.160442   \n",
       "2  K0C             0.446082          0.890743          0.326305   \n",
       "3  K0E             0.311805          0.757475          0.206026   \n",
       "4  K0G             0.344624          0.906045          0.253899   \n",
       "6  K0J             0.224904          0.840682          0.183582   \n",
       "\n",
       "   WtdBenefitIncome  \n",
       "1          0.255584  \n",
       "2          0.538852  \n",
       "3          0.418898  \n",
       "4          0.289397  \n",
       "6          0.404024  "
      ]
     },
     "execution_count": 21,
     "metadata": {},
     "output_type": "execute_result"
    }
   ],
   "source": [
    "for column in dfWtdIncomePerSource: \n",
    "    if dfWtdIncomePerSource[column].name != 'FSA':\n",
    "        dfWtdIncomePerSource[column] = (dfWtdIncomePerSource[column] - dfWtdIncomePerSource[column].min())  / (dfWtdIncomePerSource[column].max() - dfWtdIncomePerSource[column].min())\n",
    "      \n",
    "dfWtdIncomePerSource.head(5)"
   ]
  },
  {
   "cell_type": "markdown",
   "metadata": {},
   "source": [
    "Add column 'EVGradient' with default value of zero to the dataframe:"
   ]
  },
  {
   "cell_type": "code",
   "execution_count": 22,
   "metadata": {},
   "outputs": [
    {
     "data": {
      "text/html": [
       "<div>\n",
       "<style scoped>\n",
       "    .dataframe tbody tr th:only-of-type {\n",
       "        vertical-align: middle;\n",
       "    }\n",
       "\n",
       "    .dataframe tbody tr th {\n",
       "        vertical-align: top;\n",
       "    }\n",
       "\n",
       "    .dataframe thead th {\n",
       "        text-align: right;\n",
       "    }\n",
       "</style>\n",
       "<table border=\"1\" class=\"dataframe\">\n",
       "  <thead>\n",
       "    <tr style=\"text-align: right;\">\n",
       "      <th></th>\n",
       "      <th>FSA</th>\n",
       "      <th>WtdEmploymentIncome</th>\n",
       "      <th>WtdPensionIncome</th>\n",
       "      <th>WtdSelfEmpIncome</th>\n",
       "      <th>WtdBenefitIncome</th>\n",
       "      <th>EVGradient</th>\n",
       "    </tr>\n",
       "  </thead>\n",
       "  <tbody>\n",
       "    <tr>\n",
       "      <th>1</th>\n",
       "      <td>K0B</td>\n",
       "      <td>0.157169</td>\n",
       "      <td>0.346620</td>\n",
       "      <td>0.160442</td>\n",
       "      <td>0.255584</td>\n",
       "      <td>0</td>\n",
       "    </tr>\n",
       "    <tr>\n",
       "      <th>2</th>\n",
       "      <td>K0C</td>\n",
       "      <td>0.446082</td>\n",
       "      <td>0.890743</td>\n",
       "      <td>0.326305</td>\n",
       "      <td>0.538852</td>\n",
       "      <td>0</td>\n",
       "    </tr>\n",
       "    <tr>\n",
       "      <th>3</th>\n",
       "      <td>K0E</td>\n",
       "      <td>0.311805</td>\n",
       "      <td>0.757475</td>\n",
       "      <td>0.206026</td>\n",
       "      <td>0.418898</td>\n",
       "      <td>0</td>\n",
       "    </tr>\n",
       "    <tr>\n",
       "      <th>4</th>\n",
       "      <td>K0G</td>\n",
       "      <td>0.344624</td>\n",
       "      <td>0.906045</td>\n",
       "      <td>0.253899</td>\n",
       "      <td>0.289397</td>\n",
       "      <td>0</td>\n",
       "    </tr>\n",
       "    <tr>\n",
       "      <th>6</th>\n",
       "      <td>K0J</td>\n",
       "      <td>0.224904</td>\n",
       "      <td>0.840682</td>\n",
       "      <td>0.183582</td>\n",
       "      <td>0.404024</td>\n",
       "      <td>0</td>\n",
       "    </tr>\n",
       "  </tbody>\n",
       "</table>\n",
       "</div>"
      ],
      "text/plain": [
       "   FSA  WtdEmploymentIncome  WtdPensionIncome  WtdSelfEmpIncome  \\\n",
       "1  K0B             0.157169          0.346620          0.160442   \n",
       "2  K0C             0.446082          0.890743          0.326305   \n",
       "3  K0E             0.311805          0.757475          0.206026   \n",
       "4  K0G             0.344624          0.906045          0.253899   \n",
       "6  K0J             0.224904          0.840682          0.183582   \n",
       "\n",
       "   WtdBenefitIncome  EVGradient  \n",
       "1          0.255584           0  \n",
       "2          0.538852           0  \n",
       "3          0.418898           0  \n",
       "4          0.289397           0  \n",
       "6          0.404024           0  "
      ]
     },
     "execution_count": 22,
     "metadata": {},
     "output_type": "execute_result"
    }
   ],
   "source": [
    "dfWtdIncomePerSource['EVGradient']   = 0 \n",
    "dfWtdIncomePerSource.head(5)"
   ]
  },
  {
   "cell_type": "markdown",
   "metadata": {},
   "source": [
    " "
   ]
  },
  {
   "cell_type": "markdown",
   "metadata": {},
   "source": [
    "Populate EVGradient from the Gradient values in dfEVRegistration:"
   ]
  },
  {
   "cell_type": "code",
   "execution_count": 23,
   "metadata": {},
   "outputs": [
    {
     "data": {
      "text/html": [
       "<div>\n",
       "<style scoped>\n",
       "    .dataframe tbody tr th:only-of-type {\n",
       "        vertical-align: middle;\n",
       "    }\n",
       "\n",
       "    .dataframe tbody tr th {\n",
       "        vertical-align: top;\n",
       "    }\n",
       "\n",
       "    .dataframe thead th {\n",
       "        text-align: right;\n",
       "    }\n",
       "</style>\n",
       "<table border=\"1\" class=\"dataframe\">\n",
       "  <thead>\n",
       "    <tr style=\"text-align: right;\">\n",
       "      <th></th>\n",
       "      <th>FSA</th>\n",
       "      <th>WtdEmploymentIncome</th>\n",
       "      <th>WtdPensionIncome</th>\n",
       "      <th>WtdSelfEmpIncome</th>\n",
       "      <th>WtdBenefitIncome</th>\n",
       "      <th>EVGradient</th>\n",
       "    </tr>\n",
       "  </thead>\n",
       "  <tbody>\n",
       "    <tr>\n",
       "      <th>1</th>\n",
       "      <td>K0B</td>\n",
       "      <td>0.157169</td>\n",
       "      <td>0.346620</td>\n",
       "      <td>0.160442</td>\n",
       "      <td>0.255584</td>\n",
       "      <td>93.500000</td>\n",
       "    </tr>\n",
       "    <tr>\n",
       "      <th>2</th>\n",
       "      <td>K0C</td>\n",
       "      <td>0.446082</td>\n",
       "      <td>0.890743</td>\n",
       "      <td>0.326305</td>\n",
       "      <td>0.538852</td>\n",
       "      <td>169.142857</td>\n",
       "    </tr>\n",
       "    <tr>\n",
       "      <th>3</th>\n",
       "      <td>K0E</td>\n",
       "      <td>0.311805</td>\n",
       "      <td>0.757475</td>\n",
       "      <td>0.206026</td>\n",
       "      <td>0.418898</td>\n",
       "      <td>127.357143</td>\n",
       "    </tr>\n",
       "    <tr>\n",
       "      <th>4</th>\n",
       "      <td>K0G</td>\n",
       "      <td>0.344624</td>\n",
       "      <td>0.906045</td>\n",
       "      <td>0.253899</td>\n",
       "      <td>0.289397</td>\n",
       "      <td>197.821429</td>\n",
       "    </tr>\n",
       "    <tr>\n",
       "      <th>6</th>\n",
       "      <td>K0J</td>\n",
       "      <td>0.224904</td>\n",
       "      <td>0.840682</td>\n",
       "      <td>0.183582</td>\n",
       "      <td>0.404024</td>\n",
       "      <td>93.357143</td>\n",
       "    </tr>\n",
       "  </tbody>\n",
       "</table>\n",
       "</div>"
      ],
      "text/plain": [
       "   FSA  WtdEmploymentIncome  WtdPensionIncome  WtdSelfEmpIncome  \\\n",
       "1  K0B             0.157169          0.346620          0.160442   \n",
       "2  K0C             0.446082          0.890743          0.326305   \n",
       "3  K0E             0.311805          0.757475          0.206026   \n",
       "4  K0G             0.344624          0.906045          0.253899   \n",
       "6  K0J             0.224904          0.840682          0.183582   \n",
       "\n",
       "   WtdBenefitIncome  EVGradient  \n",
       "1          0.255584   93.500000  \n",
       "2          0.538852  169.142857  \n",
       "3          0.418898  127.357143  \n",
       "4          0.289397  197.821429  \n",
       "6          0.404024   93.357143  "
      ]
     },
     "execution_count": 23,
     "metadata": {},
     "output_type": "execute_result"
    }
   ],
   "source": [
    "nRecords = len(dfEVRegistration) \n",
    "    \n",
    "for i in range(nRecords): \n",
    "        cFSA = dfEVRegistration['FSA'].values[i]\n",
    "        cFSA = cFSA.strip()\n",
    "        nGradient = dfEVRegistration['Gradient'].values[i] \n",
    "        \n",
    "        \n",
    "        dfWtdIncomePerSource.loc[dfWtdIncomePerSource['FSA'].str.contains(cFSA), 'EVGradient'] = nGradient \n",
    "\n",
    "dfWtdIncomePerSource.head(5) \n"
   ]
  },
  {
   "cell_type": "markdown",
   "metadata": {},
   "source": [
    " "
   ]
  },
  {
   "cell_type": "markdown",
   "metadata": {},
   "source": [
    " "
   ]
  },
  {
   "cell_type": "markdown",
   "metadata": {},
   "source": [
    "Visualize the data using scatter plot:"
   ]
  },
  {
   "cell_type": "code",
   "execution_count": 24,
   "metadata": {},
   "outputs": [
    {
     "data": {
      "text/plain": [
       "<Axes: xlabel='WtdEmploymentIncome', ylabel='EVGradient'>"
      ]
     },
     "execution_count": 24,
     "metadata": {},
     "output_type": "execute_result"
    },
    {
     "data": {
      "image/png": "[encoded data removed]",
      "text/plain": [
       "<Figure size 640x480 with 1 Axes>"
      ]
     },
     "metadata": {},
     "output_type": "display_data"
    }
   ],
   "source": [
    "sb.scatterplot(x='WtdEmploymentIncome', \n",
    "                y='EVGradient', data=dfWtdIncomePerSource)"
   ]
  },
  {
   "cell_type": "code",
   "execution_count": 25,
   "metadata": {},
   "outputs": [
    {
     "data": {
      "text/plain": [
       "<Axes: xlabel='WtdPensionIncome', ylabel='EVGradient'>"
      ]
     },
     "execution_count": 25,
     "metadata": {},
     "output_type": "execute_result"
    },
    {
     "data": {
      "image/png": "[encoded data removed]",
      "text/plain": [
       "<Figure size 640x480 with 1 Axes>"
      ]
     },
     "metadata": {},
     "output_type": "display_data"
    }
   ],
   "source": [
    "sb.scatterplot(x='WtdPensionIncome', \n",
    "                y='EVGradient', data=dfWtdIncomePerSource)"
   ]
  },
  {
   "cell_type": "code",
   "execution_count": 26,
   "metadata": {},
   "outputs": [
    {
     "data": {
      "text/plain": [
       "<Axes: xlabel='WtdSelfEmpIncome', ylabel='EVGradient'>"
      ]
     },
     "execution_count": 26,
     "metadata": {},
     "output_type": "execute_result"
    },
    {
     "data": {
      "image/png": "[encoded data removed]",
      "text/plain": [
       "<Figure size 640x480 with 1 Axes>"
      ]
     },
     "metadata": {},
     "output_type": "display_data"
    }
   ],
   "source": [
    "sb.scatterplot(x='WtdSelfEmpIncome', \n",
    "                y='EVGradient', data=dfWtdIncomePerSource)"
   ]
  },
  {
   "cell_type": "code",
   "execution_count": 27,
   "metadata": {},
   "outputs": [
    {
     "data": {
      "text/plain": [
       "<Axes: xlabel='WtdBenefitIncome', ylabel='EVGradient'>"
      ]
     },
     "execution_count": 27,
     "metadata": {},
     "output_type": "execute_result"
    },
    {
     "data": {
      "image/png": "[encoded data removed]",
      "text/plain": [
       "<Figure size 640x480 with 1 Axes>"
      ]
     },
     "metadata": {},
     "output_type": "display_data"
    }
   ],
   "source": [
    "sb.scatterplot(x='WtdBenefitIncome', \n",
    "                y='EVGradient', data=dfWtdIncomePerSource)"
   ]
  },
  {
   "cell_type": "markdown",
   "metadata": {},
   "source": [
    "### Multiple Linear Regression:"
   ]
  },
  {
   "cell_type": "code",
   "execution_count": 28,
   "metadata": {},
   "outputs": [
    {
     "name": "stdout",
     "output_type": "stream",
     "text": [
      "Verifying split: (364, 4) (122, 4) (364,) (122,)\n",
      "\n",
      "mean_squared_error :  3409.293857444806\n",
      "mean_absolute_error :  34.44675267400381\n"
     ]
    }
   ],
   "source": [
    "dfMultiRegression =dfWtdIncomePerSource.copy() \n",
    "del dfMultiRegression['FSA'] \n",
    "\n",
    "# Create feature variables:\n",
    "X = dfMultiRegression.drop('EVGradient', axis=1) \n",
    "y = dfMultiRegression['EVGradient'] \n",
    "\n",
    "# Split the data into train and test: \n",
    "X_train, X_test, y_train, y_test = train_test_split(X, y, test_size=0.25, random_state=100) \n",
    "\n",
    "#Verify split:\n",
    "print(\"Verifying split:\", X_train.shape, X_test.shape, y_train.shape, y_test.shape) \n",
    "\n",
    "# Build a regression model:\n",
    "model = LinearRegression() \n",
    "\n",
    "# Fit the model to the training data:\n",
    "model.fit(X_train, y_train) \n",
    "\n",
    "# Make predictions: \n",
    "EVGradientPrediction = model.predict(X_test) \n",
    "\n",
    "# Evaluate the model: \n",
    "print('\\nmean_squared_error : ', mean_squared_error(y_test, EVGradientPrediction)) \n",
    "print('mean_absolute_error : ', mean_absolute_error(y_test, EVGradientPrediction)) "
   ]
  },
  {
   "cell_type": "code",
   "execution_count": 29,
   "metadata": {},
   "outputs": [
    {
     "name": "stdout",
     "output_type": "stream",
     "text": [
      "Intercept: 4.243066218828574\n",
      "Coefficients:                      0           1\n",
      "0  WtdEmploymentIncome  438.919593\n",
      "1     WtdPensionIncome   39.859540\n",
      "2     WtdSelfEmpIncome  115.700670\n",
      "3     WtdBenefitIncome  -96.012216\n"
     ]
    }
   ],
   "source": [
    "#print(\"Coefficients: {}\".format(pd.DataFrame(zip(X.columns, model.coef_))) \n",
    "print(\"Intercept: {}\".format(model.intercept_))\n",
    "#pd.DataFrame(zip(X.columns, model.coef_)) \n",
    "print(\"Coefficients: {}\".format(pd.DataFrame(zip(X.columns, model.coef_)))) "
   ]
  },
  {
   "cell_type": "markdown",
   "metadata": {
    "id": "iIvLfsi-bz2Z"
   },
   "source": [
    " "
   ]
  },
  {
   "cell_type": "markdown",
   "metadata": {},
   "source": [
    "### Logistic Regression:"
   ]
  },
  {
   "cell_type": "code",
   "execution_count": 30,
   "metadata": {},
   "outputs": [
    {
     "data": {
      "text/html": [
       "<div>\n",
       "<style scoped>\n",
       "    .dataframe tbody tr th:only-of-type {\n",
       "        vertical-align: middle;\n",
       "    }\n",
       "\n",
       "    .dataframe tbody tr th {\n",
       "        vertical-align: top;\n",
       "    }\n",
       "\n",
       "    .dataframe thead th {\n",
       "        text-align: right;\n",
       "    }\n",
       "</style>\n",
       "<table border=\"1\" class=\"dataframe\">\n",
       "  <thead>\n",
       "    <tr style=\"text-align: right;\">\n",
       "      <th></th>\n",
       "      <th>WtdEmploymentIncome</th>\n",
       "      <th>WtdPensionIncome</th>\n",
       "      <th>WtdSelfEmpIncome</th>\n",
       "      <th>WtdBenefitIncome</th>\n",
       "      <th>EVGradient</th>\n",
       "    </tr>\n",
       "  </thead>\n",
       "  <tbody>\n",
       "    <tr>\n",
       "      <th>count</th>\n",
       "      <td>486.000000</td>\n",
       "      <td>486.000000</td>\n",
       "      <td>486.000000</td>\n",
       "      <td>486.000000</td>\n",
       "      <td>486.000000</td>\n",
       "    </tr>\n",
       "    <tr>\n",
       "      <th>mean</th>\n",
       "      <td>0.246620</td>\n",
       "      <td>0.254334</td>\n",
       "      <td>0.188844</td>\n",
       "      <td>0.268949</td>\n",
       "      <td>118.279688</td>\n",
       "    </tr>\n",
       "    <tr>\n",
       "      <th>std</th>\n",
       "      <td>0.172579</td>\n",
       "      <td>0.192249</td>\n",
       "      <td>0.195920</td>\n",
       "      <td>0.203906</td>\n",
       "      <td>107.967032</td>\n",
       "    </tr>\n",
       "    <tr>\n",
       "      <th>min</th>\n",
       "      <td>0.000000</td>\n",
       "      <td>0.000000</td>\n",
       "      <td>0.000000</td>\n",
       "      <td>0.000000</td>\n",
       "      <td>-2.642857</td>\n",
       "    </tr>\n",
       "    <tr>\n",
       "      <th>25%</th>\n",
       "      <td>0.119522</td>\n",
       "      <td>0.114206</td>\n",
       "      <td>0.059737</td>\n",
       "      <td>0.100868</td>\n",
       "      <td>44.071429</td>\n",
       "    </tr>\n",
       "    <tr>\n",
       "      <th>50%</th>\n",
       "      <td>0.208483</td>\n",
       "      <td>0.207412</td>\n",
       "      <td>0.128069</td>\n",
       "      <td>0.236130</td>\n",
       "      <td>87.285714</td>\n",
       "    </tr>\n",
       "    <tr>\n",
       "      <th>75%</th>\n",
       "      <td>0.338029</td>\n",
       "      <td>0.351532</td>\n",
       "      <td>0.232356</td>\n",
       "      <td>0.385204</td>\n",
       "      <td>161.383929</td>\n",
       "    </tr>\n",
       "    <tr>\n",
       "      <th>max</th>\n",
       "      <td>1.000000</td>\n",
       "      <td>1.000000</td>\n",
       "      <td>1.000000</td>\n",
       "      <td>1.000000</td>\n",
       "      <td>719.214286</td>\n",
       "    </tr>\n",
       "  </tbody>\n",
       "</table>\n",
       "</div>"
      ],
      "text/plain": [
       "       WtdEmploymentIncome  WtdPensionIncome  WtdSelfEmpIncome  \\\n",
       "count           486.000000        486.000000        486.000000   \n",
       "mean              0.246620          0.254334          0.188844   \n",
       "std               0.172579          0.192249          0.195920   \n",
       "min               0.000000          0.000000          0.000000   \n",
       "25%               0.119522          0.114206          0.059737   \n",
       "50%               0.208483          0.207412          0.128069   \n",
       "75%               0.338029          0.351532          0.232356   \n",
       "max               1.000000          1.000000          1.000000   \n",
       "\n",
       "       WtdBenefitIncome  EVGradient  \n",
       "count        486.000000  486.000000  \n",
       "mean           0.268949  118.279688  \n",
       "std            0.203906  107.967032  \n",
       "min            0.000000   -2.642857  \n",
       "25%            0.100868   44.071429  \n",
       "50%            0.236130   87.285714  \n",
       "75%            0.385204  161.383929  \n",
       "max            1.000000  719.214286  "
      ]
     },
     "execution_count": 30,
     "metadata": {},
     "output_type": "execute_result"
    }
   ],
   "source": [
    "dfLogisticRegression =dfWtdIncomePerSource.copy() \n",
    "dfLogisticRegression.describe()"
   ]
  },
  {
   "cell_type": "markdown",
   "metadata": {},
   "source": [
    " "
   ]
  },
  {
   "cell_type": "markdown",
   "metadata": {},
   "source": [
    "Transform EVGradient to categorical variable with values: Low, High"
   ]
  },
  {
   "cell_type": "markdown",
   "metadata": {},
   "source": [
    "Use 50th percentile (=87) to separate lows from highs "
   ]
  },
  {
   "cell_type": "code",
   "execution_count": 31,
   "metadata": {},
   "outputs": [
    {
     "name": "stdout",
     "output_type": "stream",
     "text": [
      "EVGradient1\n",
      "High    244\n",
      "Low     242\n",
      "Name: EVGradient1, dtype: int64\n"
     ]
    },
    {
     "data": {
      "text/html": [
       "<div>\n",
       "<style scoped>\n",
       "    .dataframe tbody tr th:only-of-type {\n",
       "        vertical-align: middle;\n",
       "    }\n",
       "\n",
       "    .dataframe tbody tr th {\n",
       "        vertical-align: top;\n",
       "    }\n",
       "\n",
       "    .dataframe thead th {\n",
       "        text-align: right;\n",
       "    }\n",
       "</style>\n",
       "<table border=\"1\" class=\"dataframe\">\n",
       "  <thead>\n",
       "    <tr style=\"text-align: right;\">\n",
       "      <th></th>\n",
       "      <th>WtdEmploymentIncome</th>\n",
       "      <th>WtdPensionIncome</th>\n",
       "      <th>WtdSelfEmpIncome</th>\n",
       "      <th>WtdBenefitIncome</th>\n",
       "      <th>EVGradient</th>\n",
       "    </tr>\n",
       "  </thead>\n",
       "  <tbody>\n",
       "    <tr>\n",
       "      <th>1</th>\n",
       "      <td>0.157169</td>\n",
       "      <td>0.346620</td>\n",
       "      <td>0.160442</td>\n",
       "      <td>0.255584</td>\n",
       "      <td>High</td>\n",
       "    </tr>\n",
       "    <tr>\n",
       "      <th>2</th>\n",
       "      <td>0.446082</td>\n",
       "      <td>0.890743</td>\n",
       "      <td>0.326305</td>\n",
       "      <td>0.538852</td>\n",
       "      <td>High</td>\n",
       "    </tr>\n",
       "    <tr>\n",
       "      <th>3</th>\n",
       "      <td>0.311805</td>\n",
       "      <td>0.757475</td>\n",
       "      <td>0.206026</td>\n",
       "      <td>0.418898</td>\n",
       "      <td>High</td>\n",
       "    </tr>\n",
       "    <tr>\n",
       "      <th>4</th>\n",
       "      <td>0.344624</td>\n",
       "      <td>0.906045</td>\n",
       "      <td>0.253899</td>\n",
       "      <td>0.289397</td>\n",
       "      <td>High</td>\n",
       "    </tr>\n",
       "    <tr>\n",
       "      <th>6</th>\n",
       "      <td>0.224904</td>\n",
       "      <td>0.840682</td>\n",
       "      <td>0.183582</td>\n",
       "      <td>0.404024</td>\n",
       "      <td>High</td>\n",
       "    </tr>\n",
       "  </tbody>\n",
       "</table>\n",
       "</div>"
      ],
      "text/plain": [
       "   WtdEmploymentIncome  WtdPensionIncome  WtdSelfEmpIncome  WtdBenefitIncome  \\\n",
       "1             0.157169          0.346620          0.160442          0.255584   \n",
       "2             0.446082          0.890743          0.326305          0.538852   \n",
       "3             0.311805          0.757475          0.206026          0.418898   \n",
       "4             0.344624          0.906045          0.253899          0.289397   \n",
       "6             0.224904          0.840682          0.183582          0.404024   \n",
       "\n",
       "  EVGradient  \n",
       "1       High  \n",
       "2       High  \n",
       "3       High  \n",
       "4       High  \n",
       "6       High  "
      ]
     },
     "execution_count": 31,
     "metadata": {},
     "output_type": "execute_result"
    }
   ],
   "source": [
    "dfLogisticRegression['EVGradient1']   = ' '\n",
    "dfLogisticRegression.loc[dfLogisticRegression['EVGradient'] < 88, 'EVGradient1'] = 'Low' \n",
    "dfLogisticRegression.loc[dfLogisticRegression['EVGradient'] > 87, 'EVGradient1'] = 'High' \n",
    "print(dfLogisticRegression.groupby('EVGradient1')['EVGradient1'].count()) \n",
    "del dfLogisticRegression['FSA'] \n",
    "del dfLogisticRegression['EVGradient'] \n",
    "dfLogisticRegression.rename(columns = {'EVGradient1':'EVGradient'}, inplace = True) \n",
    "dfLogisticRegression.head(5)"
   ]
  },
  {
   "cell_type": "markdown",
   "metadata": {},
   "source": [
    " "
   ]
  },
  {
   "cell_type": "markdown",
   "metadata": {},
   "source": [
    " Divide the dataset into training and test:"
   ]
  },
  {
   "cell_type": "code",
   "execution_count": 32,
   "metadata": {},
   "outputs": [
    {
     "name": "stdout",
     "output_type": "stream",
     "text": [
      "Verifying split: (364, 4) (122, 4) (364,) (122,)\n"
     ]
    }
   ],
   "source": [
    "from sklearn.model_selection import train_test_split\n",
    "\n",
    "dependent_column = 'EVGradient' \n",
    "independent_columns = dfLogisticRegression.columns[dfLogisticRegression.columns != dependent_column] \n",
    "\n",
    "# training-test ratio = 75:25 \n",
    "X_train, X_test, y_train, y_test = train_test_split(dfLogisticRegression.loc[:, independent_columns], dfLogisticRegression[dependent_column], test_size=0.25,random_state=100) \n",
    "\n",
    "#Verify split: \n",
    "print(\"Verifying split:\", X_train.shape, X_test.shape, y_train.shape, y_test.shape) "
   ]
  },
  {
   "cell_type": "markdown",
   "metadata": {},
   "source": [
    " "
   ]
  },
  {
   "cell_type": "markdown",
   "metadata": {},
   "source": [
    "Predict EVGradient: "
   ]
  },
  {
   "cell_type": "code",
   "execution_count": 33,
   "metadata": {},
   "outputs": [
    {
     "name": "stdout",
     "output_type": "stream",
     "text": [
      "['High' 'High' 'Low' 'High' 'High' 'High' 'High' 'Low' 'High' 'Low' 'Low'\n",
      " 'Low' 'Low' 'High' 'High' 'Low' 'High' 'High' 'High' 'High' 'Low' 'High'\n",
      " 'High' 'Low' 'Low' 'Low' 'Low' 'High' 'Low' 'High' 'Low' 'High' 'Low'\n",
      " 'High' 'Low' 'Low' 'Low' 'Low' 'Low' 'High' 'High' 'Low' 'Low' 'Low'\n",
      " 'High' 'Low' 'Low' 'Low' 'High' 'High' 'Low' 'Low' 'Low' 'High' 'Low'\n",
      " 'High' 'High' 'Low' 'Low' 'High' 'High' 'Low' 'Low' 'High' 'High' 'High'\n",
      " 'High' 'High' 'High' 'Low' 'Low' 'High' 'Low' 'High' 'Low' 'High' 'Low'\n",
      " 'High' 'Low' 'Low' 'High' 'High' 'Low' 'Low' 'Low' 'High' 'High' 'Low'\n",
      " 'Low' 'Low' 'High' 'High' 'High' 'Low' 'Low' 'Low' 'Low' 'Low' 'Low'\n",
      " 'Low' 'Low' 'Low' 'Low' 'Low' 'Low' 'Low' 'Low' 'High' 'Low' 'Low' 'High'\n",
      " 'High' 'Low' 'Low' 'High' 'Low' 'High' 'Low' 'High' 'Low' 'Low' 'High']\n"
     ]
    }
   ],
   "source": [
    "from sklearn.linear_model import LogisticRegression \n",
    "  \n",
    "classifier = LogisticRegression(random_state = 0)\n",
    "classifier.fit(X_train, y_train) \n",
    "Logit_pred = classifier.predict(X_test) \n",
    "\n",
    "print(Logit_pred) "
   ]
  },
  {
   "cell_type": "markdown",
   "metadata": {},
   "source": [
    "Confusion matrix: "
   ]
  },
  {
   "cell_type": "code",
   "execution_count": 34,
   "metadata": {},
   "outputs": [
    {
     "name": "stdout",
     "output_type": "stream",
     "text": [
      "Logistic Regression Confusion Matrix : \n",
      " [[49 15]\n",
      " [ 4 54]]\n"
     ]
    }
   ],
   "source": [
    "from sklearn.metrics import confusion_matrix\n",
    "  \n",
    "Logit_CM = confusion_matrix(y_test, Logit_pred)\n",
    "print (\"Logistic Regression Confusion Matrix : \\n\", Logit_CM) "
   ]
  },
  {
   "cell_type": "markdown",
   "metadata": {},
   "source": [
    "Performance under Logistic Regression:"
   ]
  },
  {
   "cell_type": "markdown",
   "metadata": {},
   "source": [
    "Accuracy = (TP+TN)/(TP+TN+FP+FN) = (49+54) / (49+54+15+4) = 103 / 122 = 0.8443 "
   ]
  },
  {
   "cell_type": "markdown",
   "metadata": {},
   "source": [
    "Precision = TP/(TP+FP) = 49 / (49+15) = 49 / 64 = 0.7656"
   ]
  },
  {
   "cell_type": "markdown",
   "metadata": {},
   "source": [
    "Recall = TP/(TP+FN) = 49 / (49+4) = 49 / 53 = 0.9245 "
   ]
  },
  {
   "cell_type": "markdown",
   "metadata": {},
   "source": [
    " "
   ]
  },
  {
   "cell_type": "markdown",
   "metadata": {},
   "source": [
    "### K-Nearest Neighbour:"
   ]
  },
  {
   "cell_type": "code",
   "execution_count": 35,
   "metadata": {
    "scrolled": true
   },
   "outputs": [
    {
     "data": {
      "text/html": [
       "<div>\n",
       "<style scoped>\n",
       "    .dataframe tbody tr th:only-of-type {\n",
       "        vertical-align: middle;\n",
       "    }\n",
       "\n",
       "    .dataframe tbody tr th {\n",
       "        vertical-align: top;\n",
       "    }\n",
       "\n",
       "    .dataframe thead th {\n",
       "        text-align: right;\n",
       "    }\n",
       "</style>\n",
       "<table border=\"1\" class=\"dataframe\">\n",
       "  <thead>\n",
       "    <tr style=\"text-align: right;\">\n",
       "      <th></th>\n",
       "      <th>WtdEmploymentIncome</th>\n",
       "      <th>WtdPensionIncome</th>\n",
       "      <th>WtdSelfEmpIncome</th>\n",
       "      <th>WtdBenefitIncome</th>\n",
       "      <th>EVGradient</th>\n",
       "    </tr>\n",
       "  </thead>\n",
       "  <tbody>\n",
       "    <tr>\n",
       "      <th>count</th>\n",
       "      <td>486.000000</td>\n",
       "      <td>486.000000</td>\n",
       "      <td>486.000000</td>\n",
       "      <td>486.000000</td>\n",
       "      <td>486.000000</td>\n",
       "    </tr>\n",
       "    <tr>\n",
       "      <th>mean</th>\n",
       "      <td>0.246620</td>\n",
       "      <td>0.254334</td>\n",
       "      <td>0.188844</td>\n",
       "      <td>0.268949</td>\n",
       "      <td>118.279688</td>\n",
       "    </tr>\n",
       "    <tr>\n",
       "      <th>std</th>\n",
       "      <td>0.172579</td>\n",
       "      <td>0.192249</td>\n",
       "      <td>0.195920</td>\n",
       "      <td>0.203906</td>\n",
       "      <td>107.967032</td>\n",
       "    </tr>\n",
       "    <tr>\n",
       "      <th>min</th>\n",
       "      <td>0.000000</td>\n",
       "      <td>0.000000</td>\n",
       "      <td>0.000000</td>\n",
       "      <td>0.000000</td>\n",
       "      <td>-2.642857</td>\n",
       "    </tr>\n",
       "    <tr>\n",
       "      <th>25%</th>\n",
       "      <td>0.119522</td>\n",
       "      <td>0.114206</td>\n",
       "      <td>0.059737</td>\n",
       "      <td>0.100868</td>\n",
       "      <td>44.071429</td>\n",
       "    </tr>\n",
       "    <tr>\n",
       "      <th>50%</th>\n",
       "      <td>0.208483</td>\n",
       "      <td>0.207412</td>\n",
       "      <td>0.128069</td>\n",
       "      <td>0.236130</td>\n",
       "      <td>87.285714</td>\n",
       "    </tr>\n",
       "    <tr>\n",
       "      <th>75%</th>\n",
       "      <td>0.338029</td>\n",
       "      <td>0.351532</td>\n",
       "      <td>0.232356</td>\n",
       "      <td>0.385204</td>\n",
       "      <td>161.383929</td>\n",
       "    </tr>\n",
       "    <tr>\n",
       "      <th>max</th>\n",
       "      <td>1.000000</td>\n",
       "      <td>1.000000</td>\n",
       "      <td>1.000000</td>\n",
       "      <td>1.000000</td>\n",
       "      <td>719.214286</td>\n",
       "    </tr>\n",
       "  </tbody>\n",
       "</table>\n",
       "</div>"
      ],
      "text/plain": [
       "       WtdEmploymentIncome  WtdPensionIncome  WtdSelfEmpIncome  \\\n",
       "count           486.000000        486.000000        486.000000   \n",
       "mean              0.246620          0.254334          0.188844   \n",
       "std               0.172579          0.192249          0.195920   \n",
       "min               0.000000          0.000000          0.000000   \n",
       "25%               0.119522          0.114206          0.059737   \n",
       "50%               0.208483          0.207412          0.128069   \n",
       "75%               0.338029          0.351532          0.232356   \n",
       "max               1.000000          1.000000          1.000000   \n",
       "\n",
       "       WtdBenefitIncome  EVGradient  \n",
       "count        486.000000  486.000000  \n",
       "mean           0.268949  118.279688  \n",
       "std            0.203906  107.967032  \n",
       "min            0.000000   -2.642857  \n",
       "25%            0.100868   44.071429  \n",
       "50%            0.236130   87.285714  \n",
       "75%            0.385204  161.383929  \n",
       "max            1.000000  719.214286  "
      ]
     },
     "execution_count": 35,
     "metadata": {},
     "output_type": "execute_result"
    }
   ],
   "source": [
    "dfKNN =dfWtdIncomePerSource.copy() \n",
    "dfKNN.describe()"
   ]
  },
  {
   "cell_type": "markdown",
   "metadata": {},
   "source": [
    "Transform EVGradient to categorical variable with values: Low, High "
   ]
  },
  {
   "cell_type": "markdown",
   "metadata": {},
   "source": [
    "Use 50th percentile (=87) to separate lows from highs"
   ]
  },
  {
   "cell_type": "code",
   "execution_count": 36,
   "metadata": {},
   "outputs": [
    {
     "name": "stdout",
     "output_type": "stream",
     "text": [
      "EVGradient1\n",
      "High    244\n",
      "Low     242\n",
      "Name: EVGradient1, dtype: int64\n"
     ]
    },
    {
     "data": {
      "text/html": [
       "<div>\n",
       "<style scoped>\n",
       "    .dataframe tbody tr th:only-of-type {\n",
       "        vertical-align: middle;\n",
       "    }\n",
       "\n",
       "    .dataframe tbody tr th {\n",
       "        vertical-align: top;\n",
       "    }\n",
       "\n",
       "    .dataframe thead th {\n",
       "        text-align: right;\n",
       "    }\n",
       "</style>\n",
       "<table border=\"1\" class=\"dataframe\">\n",
       "  <thead>\n",
       "    <tr style=\"text-align: right;\">\n",
       "      <th></th>\n",
       "      <th>WtdEmploymentIncome</th>\n",
       "      <th>WtdPensionIncome</th>\n",
       "      <th>WtdSelfEmpIncome</th>\n",
       "      <th>WtdBenefitIncome</th>\n",
       "      <th>EVGradient</th>\n",
       "    </tr>\n",
       "  </thead>\n",
       "  <tbody>\n",
       "    <tr>\n",
       "      <th>1</th>\n",
       "      <td>0.157169</td>\n",
       "      <td>0.346620</td>\n",
       "      <td>0.160442</td>\n",
       "      <td>0.255584</td>\n",
       "      <td>High</td>\n",
       "    </tr>\n",
       "    <tr>\n",
       "      <th>2</th>\n",
       "      <td>0.446082</td>\n",
       "      <td>0.890743</td>\n",
       "      <td>0.326305</td>\n",
       "      <td>0.538852</td>\n",
       "      <td>High</td>\n",
       "    </tr>\n",
       "    <tr>\n",
       "      <th>3</th>\n",
       "      <td>0.311805</td>\n",
       "      <td>0.757475</td>\n",
       "      <td>0.206026</td>\n",
       "      <td>0.418898</td>\n",
       "      <td>High</td>\n",
       "    </tr>\n",
       "    <tr>\n",
       "      <th>4</th>\n",
       "      <td>0.344624</td>\n",
       "      <td>0.906045</td>\n",
       "      <td>0.253899</td>\n",
       "      <td>0.289397</td>\n",
       "      <td>High</td>\n",
       "    </tr>\n",
       "    <tr>\n",
       "      <th>6</th>\n",
       "      <td>0.224904</td>\n",
       "      <td>0.840682</td>\n",
       "      <td>0.183582</td>\n",
       "      <td>0.404024</td>\n",
       "      <td>High</td>\n",
       "    </tr>\n",
       "  </tbody>\n",
       "</table>\n",
       "</div>"
      ],
      "text/plain": [
       "   WtdEmploymentIncome  WtdPensionIncome  WtdSelfEmpIncome  WtdBenefitIncome  \\\n",
       "1             0.157169          0.346620          0.160442          0.255584   \n",
       "2             0.446082          0.890743          0.326305          0.538852   \n",
       "3             0.311805          0.757475          0.206026          0.418898   \n",
       "4             0.344624          0.906045          0.253899          0.289397   \n",
       "6             0.224904          0.840682          0.183582          0.404024   \n",
       "\n",
       "  EVGradient  \n",
       "1       High  \n",
       "2       High  \n",
       "3       High  \n",
       "4       High  \n",
       "6       High  "
      ]
     },
     "execution_count": 36,
     "metadata": {},
     "output_type": "execute_result"
    }
   ],
   "source": [
    "dfKNN['EVGradient1']   = ' '\n",
    "dfKNN.loc[dfKNN['EVGradient'] < 88, 'EVGradient1'] = 'Low' \n",
    "dfKNN.loc[dfKNN['EVGradient'] > 87, 'EVGradient1'] = 'High' \n",
    "\n",
    "print(dfKNN.groupby('EVGradient1')['EVGradient1'].count()) \n",
    "del dfKNN['FSA'] \n",
    "del dfKNN['EVGradient'] \n",
    "dfKNN.rename(columns = {'EVGradient1':'EVGradient'}, inplace = True) \n",
    "dfKNN.head(5)"
   ]
  },
  {
   "cell_type": "code",
   "execution_count": 37,
   "metadata": {},
   "outputs": [
    {
     "name": "stdout",
     "output_type": "stream",
     "text": [
      "Verifying split: (364, 4) (122, 4) (364,) (122,)\n"
     ]
    },
    {
     "data": {
      "text/plain": [
       "0.8688524590163934"
      ]
     },
     "execution_count": 37,
     "metadata": {},
     "output_type": "execute_result"
    }
   ],
   "source": [
    "from sklearn.neighbors import KNeighborsClassifier \n",
    "from sklearn.metrics import accuracy_score\n",
    "\n",
    "# convert dataframe to array\n",
    "Xknn = dfKNN.copy()  \n",
    "yknn = Xknn.pop('EVGradient') \n",
    "\n",
    "Xknn_train, Xknn_test, yknn_train, yknn_test = train_test_split(Xknn, yknn, test_size=0.25,random_state=100) \n",
    "\n",
    "#Verify split: \n",
    "print(\"Verifying split:\", Xknn_train.shape, Xknn_test.shape, yknn_train.shape, yknn_test.shape) \n",
    "\n",
    "knn = KNeighborsClassifier(n_neighbors=25) \n",
    "knn.fit(Xknn_train, yknn_train) \n",
    "knn.score(Xknn_test, yknn_test)"
   ]
  },
  {
   "cell_type": "markdown",
   "metadata": {},
   "source": [
    " "
   ]
  },
  {
   "cell_type": "markdown",
   "metadata": {},
   "source": [
    "Optimize KNN score:"
   ]
  },
  {
   "cell_type": "code",
   "execution_count": 38,
   "metadata": {},
   "outputs": [
    {
     "data": {
      "image/png": "[encoded data removed]",
      "text/plain": [
       "<Figure size 640x480 with 1 Axes>"
      ]
     },
     "metadata": {},
     "output_type": "display_data"
    }
   ],
   "source": [
    "i = range(1,40) \n",
    "score = [] \n",
    "\n",
    "for k in i: \n",
    "    knn = KNeighborsClassifier(n_neighbors=k) \n",
    "    knn.fit(Xknn_train, yknn_train) \n",
    "    score.append(knn.score(Xknn_test, yknn_test)) \n",
    "   \n",
    "sb.scatterplot(score) \n",
    "plt.xlabel('K-Count')\n",
    "plt.ylabel('Model Accuracy')\n",
    "plt.title('Scatter Plot of KNN Model')\n",
    "plt.show()"
   ]
  },
  {
   "cell_type": "markdown",
   "metadata": {},
   "source": [
    "The best K-valuee are 25 and 27, with a score of about 0.88 (see the sctterplot above)"
   ]
  },
  {
   "cell_type": "markdown",
   "metadata": {},
   "source": [
    "Make predictions:"
   ]
  },
  {
   "cell_type": "code",
   "execution_count": 39,
   "metadata": {},
   "outputs": [
    {
     "name": "stdout",
     "output_type": "stream",
     "text": [
      "['High' 'High' 'Low' 'High' 'High' 'High' 'High' 'Low' 'High' 'Low' 'Low'\n",
      " 'Low' 'Low' 'High' 'High' 'Low' 'High' 'High' 'High' 'High' 'Low' 'High'\n",
      " 'High' 'Low' 'Low' 'Low' 'Low' 'High' 'Low' 'High' 'Low' 'High' 'Low'\n",
      " 'High' 'Low' 'High' 'High' 'Low' 'Low' 'High' 'High' 'Low' 'Low' 'Low'\n",
      " 'High' 'Low' 'Low' 'Low' 'High' 'High' 'Low' 'Low' 'Low' 'High' 'Low'\n",
      " 'High' 'High' 'Low' 'Low' 'High' 'High' 'Low' 'Low' 'High' 'High' 'High'\n",
      " 'High' 'High' 'High' 'Low' 'Low' 'High' 'Low' 'High' 'Low' 'High' 'Low'\n",
      " 'High' 'Low' 'Low' 'High' 'Low' 'Low' 'Low' 'Low' 'High' 'Low' 'Low'\n",
      " 'Low' 'Low' 'High' 'High' 'High' 'Low' 'Low' 'Low' 'Low' 'Low' 'Low'\n",
      " 'Low' 'Low' 'Low' 'Low' 'Low' 'Low' 'Low' 'Low' 'High' 'Low' 'Low' 'High'\n",
      " 'High' 'Low' 'Low' 'High' 'Low' 'High' 'Low' 'High' 'Low' 'Low' 'High']\n"
     ]
    }
   ],
   "source": [
    "knn_pred = knn.predict(Xknn_test) \n",
    "\n",
    "print(knn_pred)"
   ]
  },
  {
   "cell_type": "markdown",
   "metadata": {},
   "source": [
    "Confusion matrix:"
   ]
  },
  {
   "cell_type": "code",
   "execution_count": 40,
   "metadata": {},
   "outputs": [
    {
     "name": "stdout",
     "output_type": "stream",
     "text": [
      "KNN Confusion Matrix : \n",
      " [[50 14]\n",
      " [ 3 55]]\n"
     ]
    }
   ],
   "source": [
    "knn_CM = confusion_matrix(yknn_test, knn_pred)\n",
    "print (\"KNN Confusion Matrix : \\n\", knn_CM)"
   ]
  },
  {
   "cell_type": "markdown",
   "metadata": {},
   "source": [
    "Performance under K-Nearest Neighbour: "
   ]
  },
  {
   "cell_type": "markdown",
   "metadata": {},
   "source": [
    " Accuracy = (TP+TN)/(TP+TN+FP+FN) = (50+55) / (50+55+14+3) = 105 / 122 = 0.8607 "
   ]
  },
  {
   "cell_type": "markdown",
   "metadata": {},
   "source": [
    "Precision = TP/(TP+FP) = 50 / (50+14) = 50 / 64 = 0.7813"
   ]
  },
  {
   "cell_type": "markdown",
   "metadata": {},
   "source": [
    "Recall = TP/(TP+FN) = 50 / (50+3) = 50 / 53 = 0.9434"
   ]
  },
  {
   "cell_type": "markdown",
   "metadata": {},
   "source": [
    " "
   ]
  },
  {
   "cell_type": "markdown",
   "metadata": {},
   "source": [
    "### Data Analysis to answer Research Questions"
   ]
  },
  {
   "cell_type": "markdown",
   "metadata": {},
   "source": [
    "What parts of Ontario have the strongest growth in ZEV registration?"
   ]
  },
  {
   "cell_type": "code",
   "execution_count": 43,
   "metadata": {},
   "outputs": [
    {
     "data": {
      "text/html": [
       "<div>\n",
       "<style scoped>\n",
       "    .dataframe tbody tr th:only-of-type {\n",
       "        vertical-align: middle;\n",
       "    }\n",
       "\n",
       "    .dataframe tbody tr th {\n",
       "        vertical-align: top;\n",
       "    }\n",
       "\n",
       "    .dataframe thead th {\n",
       "        text-align: right;\n",
       "    }\n",
       "</style>\n",
       "<table border=\"1\" class=\"dataframe\">\n",
       "  <thead>\n",
       "    <tr style=\"text-align: right;\">\n",
       "      <th></th>\n",
       "      <th>FSA</th>\n",
       "      <th>WtdEmploymentIncome</th>\n",
       "      <th>WtdPensionIncome</th>\n",
       "      <th>WtdSelfEmpIncome</th>\n",
       "      <th>WtdBenefitIncome</th>\n",
       "      <th>EVGradient</th>\n",
       "    </tr>\n",
       "  </thead>\n",
       "  <tbody>\n",
       "    <tr>\n",
       "      <th>183</th>\n",
       "      <td>L6C</td>\n",
       "      <td>0.553367</td>\n",
       "      <td>0.116929</td>\n",
       "      <td>0.701627</td>\n",
       "      <td>0.298212</td>\n",
       "      <td>719.214286</td>\n",
       "    </tr>\n",
       "    <tr>\n",
       "      <th>137</th>\n",
       "      <td>L3R</td>\n",
       "      <td>0.516518</td>\n",
       "      <td>0.465038</td>\n",
       "      <td>0.662505</td>\n",
       "      <td>0.478577</td>\n",
       "      <td>623.357143</td>\n",
       "    </tr>\n",
       "    <tr>\n",
       "      <th>148</th>\n",
       "      <td>L4G</td>\n",
       "      <td>0.871128</td>\n",
       "      <td>0.383687</td>\n",
       "      <td>0.683059</td>\n",
       "      <td>0.347929</td>\n",
       "      <td>616.035714</td>\n",
       "    </tr>\n",
       "    <tr>\n",
       "      <th>147</th>\n",
       "      <td>L4E</td>\n",
       "      <td>0.685461</td>\n",
       "      <td>0.105755</td>\n",
       "      <td>0.831202</td>\n",
       "      <td>0.322312</td>\n",
       "      <td>603.571429</td>\n",
       "    </tr>\n",
       "    <tr>\n",
       "      <th>145</th>\n",
       "      <td>L4B</td>\n",
       "      <td>0.397504</td>\n",
       "      <td>0.204829</td>\n",
       "      <td>0.617393</td>\n",
       "      <td>0.232644</td>\n",
       "      <td>561.392857</td>\n",
       "    </tr>\n",
       "  </tbody>\n",
       "</table>\n",
       "</div>"
      ],
      "text/plain": [
       "     FSA  WtdEmploymentIncome  WtdPensionIncome  WtdSelfEmpIncome  \\\n",
       "183  L6C             0.553367          0.116929          0.701627   \n",
       "137  L3R             0.516518          0.465038          0.662505   \n",
       "148  L4G             0.871128          0.383687          0.683059   \n",
       "147  L4E             0.685461          0.105755          0.831202   \n",
       "145  L4B             0.397504          0.204829          0.617393   \n",
       "\n",
       "     WtdBenefitIncome  EVGradient  \n",
       "183          0.298212  719.214286  \n",
       "137          0.478577  623.357143  \n",
       "148          0.347929  616.035714  \n",
       "147          0.322312  603.571429  \n",
       "145          0.232644  561.392857  "
      ]
     },
     "execution_count": 43,
     "metadata": {},
     "output_type": "execute_result"
    }
   ],
   "source": [
    "dfWtdIncomePerSource.nlargest(5, ['EVGradient'])"
   ]
  },
  {
   "cell_type": "markdown",
   "metadata": {},
   "source": [
    " "
   ]
  },
  {
   "cell_type": "markdown",
   "metadata": {},
   "source": [
    "Given economic outlook, what FSAs will be affected most in terms of new ZEV registrations?"
   ]
  },
  {
   "cell_type": "code",
   "execution_count": 44,
   "metadata": {},
   "outputs": [
    {
     "data": {
      "text/html": [
       "<div>\n",
       "<style scoped>\n",
       "    .dataframe tbody tr th:only-of-type {\n",
       "        vertical-align: middle;\n",
       "    }\n",
       "\n",
       "    .dataframe tbody tr th {\n",
       "        vertical-align: top;\n",
       "    }\n",
       "\n",
       "    .dataframe thead th {\n",
       "        text-align: right;\n",
       "    }\n",
       "</style>\n",
       "<table border=\"1\" class=\"dataframe\">\n",
       "  <thead>\n",
       "    <tr style=\"text-align: right;\">\n",
       "      <th></th>\n",
       "      <th>FSA</th>\n",
       "      <th>WtdEmploymentIncome</th>\n",
       "      <th>WtdPensionIncome</th>\n",
       "      <th>WtdSelfEmpIncome</th>\n",
       "      <th>WtdBenefitIncome</th>\n",
       "      <th>EVGradient</th>\n",
       "    </tr>\n",
       "  </thead>\n",
       "  <tbody>\n",
       "    <tr>\n",
       "      <th>298</th>\n",
       "      <td>M4V</td>\n",
       "      <td>0.440921</td>\n",
       "      <td>0.347221</td>\n",
       "      <td>1.000000</td>\n",
       "      <td>0.047806</td>\n",
       "      <td>216.214286</td>\n",
       "    </tr>\n",
       "    <tr>\n",
       "      <th>322</th>\n",
       "      <td>M6C</td>\n",
       "      <td>0.332768</td>\n",
       "      <td>0.145816</td>\n",
       "      <td>0.965665</td>\n",
       "      <td>0.228830</td>\n",
       "      <td>171.607143</td>\n",
       "    </tr>\n",
       "    <tr>\n",
       "      <th>324</th>\n",
       "      <td>M6G</td>\n",
       "      <td>0.395183</td>\n",
       "      <td>0.190317</td>\n",
       "      <td>0.959617</td>\n",
       "      <td>0.275810</td>\n",
       "      <td>152.035714</td>\n",
       "    </tr>\n",
       "    <tr>\n",
       "      <th>339</th>\n",
       "      <td>M9A</td>\n",
       "      <td>0.531873</td>\n",
       "      <td>0.386054</td>\n",
       "      <td>0.949265</td>\n",
       "      <td>0.261767</td>\n",
       "      <td>298.321429</td>\n",
       "    </tr>\n",
       "    <tr>\n",
       "      <th>333</th>\n",
       "      <td>M6S</td>\n",
       "      <td>0.592496</td>\n",
       "      <td>0.277846</td>\n",
       "      <td>0.928016</td>\n",
       "      <td>0.167655</td>\n",
       "      <td>278.250000</td>\n",
       "    </tr>\n",
       "  </tbody>\n",
       "</table>\n",
       "</div>"
      ],
      "text/plain": [
       "     FSA  WtdEmploymentIncome  WtdPensionIncome  WtdSelfEmpIncome  \\\n",
       "298  M4V             0.440921          0.347221          1.000000   \n",
       "322  M6C             0.332768          0.145816          0.965665   \n",
       "324  M6G             0.395183          0.190317          0.959617   \n",
       "339  M9A             0.531873          0.386054          0.949265   \n",
       "333  M6S             0.592496          0.277846          0.928016   \n",
       "\n",
       "     WtdBenefitIncome  EVGradient  \n",
       "298          0.047806  216.214286  \n",
       "322          0.228830  171.607143  \n",
       "324          0.275810  152.035714  \n",
       "339          0.261767  298.321429  \n",
       "333          0.167655  278.250000  "
      ]
     },
     "execution_count": 44,
     "metadata": {},
     "output_type": "execute_result"
    }
   ],
   "source": [
    "dfWtdIncomePerSource.nlargest(5, ['WtdSelfEmpIncome'])"
   ]
  }
 ],
 "metadata": {
  "colab": {
   "collapsed_sections": [],
   "provenance": []
  },
  "kernelspec": {
   "display_name": "Python 3 (ipykernel)",
   "language": "python",
   "name": "python3"
  },
  "language_info": {
   "codemirror_mode": {
    "name": "ipython",
    "version": 3
   },
   "file_extension": ".py",
   "mimetype": "text/x-python",
   "name": "python",
   "nbconvert_exporter": "python",
   "pygments_lexer": "ipython3",
   "version": "3.10.10"
  },
  "nteract": {
   "version": "0.25.0"
  },
  "varInspector": {
   "cols": {
    "lenName": 16,
    "lenType": 16,
    "lenVar": 40
   },
   "kernels_config": {
    "python": {
     "delete_cmd_postfix": "",
     "delete_cmd_prefix": "del ",
     "library": "var_list.py",
     "varRefreshCmd": "print(var_dic_list())"
    },
    "r": {
     "delete_cmd_postfix": ") ",
     "delete_cmd_prefix": "rm(",
     "library": "var_list.r",
     "varRefreshCmd": "cat(var_dic_list()) "
    }
   },
   "types_to_exclude": [
    "module",
    "function",
    "builtin_function_or_method",
    "instance",
    "_Feature"
   ],
   "window_display": false
  }
 },
 "nbformat": 4,
 "nbformat_minor": 1
}
